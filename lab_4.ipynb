{
 "cells": [
  {
   "cell_type": "code",
   "execution_count": 1,
   "metadata": {
    "colab": {
     "base_uri": "https://localhost:8080/"
    },
    "id": "n6qgi0OcgOt9",
    "outputId": "69077ac1-05dd-42c0-d795-878820d94f4d"
   },
   "outputs": [],
   "source": [
    "#!pip install transformers"
   ]
  },
  {
   "cell_type": "code",
   "execution_count": 2,
   "metadata": {
    "id": "PKnoyDOtM9gH"
   },
   "outputs": [],
   "source": [
    "import os.path as path\n",
    "import os\n",
    "import pickle\n",
    "from enum import Enum\n",
    "from typing import NoReturn, Optional\n",
    "from tqdm import tqdm\n",
    "import random\n",
    "from pprint import pprint\n",
    "import pandas as pd\n",
    "import numpy as np\n",
    "import time\n",
    "\n",
    "import librosa\n",
    "import librosa.feature as audio_F\n",
    "\n",
    "from sklearn.model_selection import train_test_split\n",
    "from sklearn.metrics import f1_score\n",
    "\n",
    "import torch\n",
    "import torch.nn as nn\n",
    "import torch.nn.functional as nn_F\n",
    "from torch.utils.data import Dataset\n",
    "from torch.utils.data import DataLoader\n",
    "import torchaudio\n",
    "import torchaudio.transforms as T\n",
    "\n",
    "from transformers import ASTFeatureExtractor\n",
    "from transformers import AutoModelForAudioClassification\n",
    "\n",
    "import matplotlib.pyplot as plt\n",
    "\n",
    "from IPython.display import Audio\n",
    "\n",
    "import warnings\n",
    "warnings.filterwarnings('ignore')"
   ]
  },
  {
   "cell_type": "code",
   "execution_count": 3,
   "metadata": {
    "colab": {
     "base_uri": "https://localhost:8080/"
    },
    "id": "ZpRQcdoGgI4p",
    "outputId": "abb6601c-7f54-4aa3-bdb6-abe8c3bf78b9"
   },
   "outputs": [
    {
     "name": "stdout",
     "output_type": "stream",
     "text": [
      "device='cuda'\n",
      "num_workers=0, cpu_count=4\n"
     ]
    }
   ],
   "source": [
    "# feature extraction parameters\n",
    "sample_rate = 16000  # was 11025\n",
    "n_fft = 1024\n",
    "overlap = 4\n",
    "hop_length = n_fft // overlap\n",
    "n_mels = 64\n",
    "\n",
    "device = device = \"cuda\" if torch.cuda.is_available() else \"cpu\"\n",
    "print(f'{device=}')\n",
    "\n",
    "cpu_count = os.cpu_count()\n",
    "num_workers = cpu_count if device == \"cpu\" else 0\n",
    "print(f'{num_workers=}, {cpu_count=}')\n",
    "\n",
    "def set_random_state(random_state:int=0) -> NoReturn:\n",
    "    \"\"\"Initialize random generators.\n",
    "\n",
    "    Parameters\n",
    "    ==========\n",
    "    random_state : int = 0\n",
    "        Determines random number generation for centroid initialization.\n",
    "        Use an int to make the randomness deterministic.\n",
    "    \"\"\"\n",
    "    torch.manual_seed(random_state)\n",
    "    random.seed(random_state)\n",
    "    np.random.seed(random_state)\n",
    "\n",
    "    if torch.cuda.is_available():\n",
    "        torch.cuda.manual_seed_all(random_state)\n",
    "        torch.cuda.manual_seed(random_state)\n",
    "\n",
    "        torch.backends.cudnn.deterministic = True\n",
    "        torch.backends.cudnn.benchmark = False\n",
    "    return\n",
    "\n",
    "random_state = 42\n",
    "set_random_state(random_state)\n",
    "torch.use_deterministic_algorithms(True)"
   ]
  },
  {
   "cell_type": "code",
   "execution_count": 4,
   "metadata": {
    "colab": {
     "base_uri": "https://localhost:8080/"
    },
    "id": "UpQBAcGegqa4",
    "outputId": "8979993f-363b-4cdc-8d59-88bc4a42ce9e"
   },
   "outputs": [
    {
     "name": "stdout",
     "output_type": "stream",
     "text": [
      "env: CUBLAS_WORKSPACE_CONFIG=:4096:8\n",
      "env: PYTHONHASHSEED=42\n"
     ]
    }
   ],
   "source": [
    "%env CUBLAS_WORKSPACE_CONFIG=:4096:8\n",
    "%env PYTHONHASHSEED=42"
   ]
  },
  {
   "cell_type": "code",
   "execution_count": 5,
   "metadata": {
    "id": "hjc50vuYgqp9"
   },
   "outputs": [],
   "source": [
    "# path\n",
    "data_path = \"./data\"\n",
    "\n",
    "train_csv = data_path + \"/train.csv\"\n",
    "train_pickle = data_path + \"/train.pickle\"\n",
    "test_pickle = data_path + \"/test.pickle\"\n",
    "labels_pickle = data_path + \"/labels.pickle\""
   ]
  },
  {
   "cell_type": "code",
   "execution_count": 6,
   "metadata": {
    "id": "ZAWe8jt4g_Nk"
   },
   "outputs": [],
   "source": [
    "class SetType(Enum):\n",
    "    \"\"\"Set type\"\"\"\n",
    "    TRAIN = 1\n",
    "    TEST  = 2\n",
    "    DEV   = 3\n",
    "\n",
    "class EventDetectionDataset(Dataset):\n",
    "    def __init__(self, x, y=None, device=\"cpu\", set_type=SetType.TRAIN):\n",
    "        self.x = x\n",
    "        self.y = y\n",
    "        self.set_type = set_type\n",
    "        \n",
    "        stretch_factor = 0.85\n",
    "        mask_param = 20\n",
    "        self.transforms = nn.Sequential(\n",
    "            T.TimeStretch(stretch_factor, fixed_rate=True),\n",
    "            T.FrequencyMasking(freq_mask_param=mask_param),\n",
    "            T.TimeMasking(time_mask_param=mask_param)\n",
    "        )\n",
    "\n",
    "    def __len__(self):\n",
    "        return len(self.x)\n",
    "\n",
    "    def __getitem__(self, idx):\n",
    "        # добавить сюда prepare_shape()\n",
    "        # if self.set_type == SetType.TRAIN:\n",
    "        # x = prepare_shape(self.x[idx])\n",
    "        # else:\n",
    "        # x = self.x[idx]\n",
    "        x = self.x[idx]\n",
    "        if self.set_type == SetType.TRAIN:\n",
    "                x = self.transforms(x)\n",
    "        if self.y is not None:\n",
    "            x = torch.tensor(x, dtype=torch.float32, device=device).squeeze()\n",
    "            y = torch.tensor(self.y[idx], dtype=torch.int, device=device)\n",
    "            \n",
    "            return x, y\n",
    "\n",
    "        return torch.tensor(x, dtype=torch.float32, device=device).squeeze()"
   ]
  },
  {
   "cell_type": "code",
   "execution_count": 7,
   "metadata": {
    "colab": {
     "base_uri": "https://localhost:8080/"
    },
    "id": "I5zkkN_ahDUR",
    "outputId": "6f685f9a-ba3c-47db-f6e3-9522d321e87a"
   },
   "outputs": [
    {
     "name": "stdout",
     "output_type": "stream",
     "text": [
      "\n",
      "Train set:\n",
      "    x.shape: 4883\n",
      "    y.shape: 4883\n",
      "\n",
      "Validation set:\n",
      "    x.shape: 800\n",
      "    y.shape: 800\n",
      "    \n",
      "Test set:\n",
      "    x.shape: 3790\n",
      "    \n"
     ]
    }
   ],
   "source": [
    "train_data = pickle.load(open(train_pickle, \"rb\"))\n",
    "test_data = pickle.load(open(test_pickle, \"rb\"))\n",
    "\n",
    "label_to_id = pickle.load(open(labels_pickle, \"rb\"))\n",
    "id_to_label = [label for label, i in label_to_id.items()]\n",
    "\n",
    "validation_set_size = 800\n",
    "test_set_size = validation_set_size / len(train_data)\n",
    "\n",
    "\n",
    "x_, y_ = [], []\n",
    "for i, row in enumerate(train_data):\n",
    "    feature = row['feature']\n",
    "    x_.append(feature)\n",
    "    y_.append(row['label_id'])\n",
    "\n",
    "x_tr, x_val, y_tr, y_val = train_test_split(x_, y_, stratify=y_, test_size=test_set_size)\n",
    "\n",
    "print(f\"\"\"\n",
    "Train set:\n",
    "    x.shape: {len(x_tr)}\n",
    "    y.shape: {len(y_tr)}\n",
    "\n",
    "Validation set:\n",
    "    x.shape: {len(x_val)}\n",
    "    y.shape: {len(y_val)}\n",
    "    \n",
    "Test set:\n",
    "    x.shape: {len(test_data)}\n",
    "    \"\"\")\n",
    "\n",
    "train_dset = EventDetectionDataset(x_tr, y_tr, device=device, set_type=SetType.TRAIN)\n",
    "val_dset = EventDetectionDataset(x_val, y_val, device=device, set_type=SetType.TEST)"
   ]
  },
  {
   "cell_type": "code",
   "execution_count": 8,
   "metadata": {
    "id": "tds_Jf94smnT"
   },
   "outputs": [
    {
     "name": "stdout",
     "output_type": "stream",
     "text": [
      "0.0\n",
      "0.0\n"
     ]
    }
   ],
   "source": [
    "torch.cuda.empty_cache()\n",
    "print(torch.cuda.memory_allocated()/1024**2)\n",
    "print(torch.cuda.memory_cached()/1024**2)"
   ]
  },
  {
   "cell_type": "code",
   "execution_count": 10,
   "metadata": {
    "id": "dy-0WfA5greA"
   },
   "outputs": [],
   "source": [
    "train_loader = DataLoader(train_dset, batch_size=32, shuffle=True, num_workers=num_workers, drop_last=True)\n",
    "val_loader = DataLoader(val_dset, batch_size=32, shuffle=False, num_workers=num_workers, drop_last=True)"
   ]
  },
  {
   "cell_type": "code",
   "execution_count": 11,
   "metadata": {
    "colab": {
     "base_uri": "https://localhost:8080/"
    },
    "id": "BA3vNRcghWvF",
    "outputId": "313325f4-d814-4e55-baff-841f718b5fe2"
   },
   "outputs": [
    {
     "data": {
      "text/plain": [
       "(26, 'Laughter')"
      ]
     },
     "execution_count": 11,
     "metadata": {},
     "output_type": "execute_result"
    }
   ],
   "source": [
    "set_random_state(random_state)\n",
    "\n",
    "sample_x, sample_y = random.choice(val_dset)\n",
    "\n",
    "sample_y.item(), id_to_label[sample_y]"
   ]
  },
  {
   "cell_type": "code",
   "execution_count": 12,
   "metadata": {
    "colab": {
     "base_uri": "https://localhost:8080/"
    },
    "id": "OCWalQIxhZQe",
    "outputId": "eba29121-3aac-42fa-de73-6b89a7786226"
   },
   "outputs": [
    {
     "data": {
      "text/plain": [
       "(12, 'Double_bass')"
      ]
     },
     "execution_count": 12,
     "metadata": {},
     "output_type": "execute_result"
    }
   ],
   "source": [
    "set_random_state(random_state)\n",
    "\n",
    "sample_x, sample_y = random.choice(train_dset)\n",
    "sample_y.item(), id_to_label[sample_y]"
   ]
  },
  {
   "cell_type": "code",
   "execution_count": 13,
   "metadata": {
    "colab": {
     "base_uri": "https://localhost:8080/",
     "height": 865,
     "referenced_widgets": [
      "720493f907014139ae02d9a4867488ad",
      "62a828ff73a54574a71df15bc63079d4",
      "3e80fbe072e84e05991b83a78340ea49",
      "9f08931f4b5945dbac2fffd26672567a",
      "9900c40e644e4b1f9aa2fbf575255b0b",
      "e9e4fcca326b465f8c5b357741b61086",
      "cd8582d74c4b43d9b77a37a0b1f37ab7",
      "b237d85c7ecb49ea8f82dae598beca8e",
      "576d833d2461464087b8cb2035b8fb73",
      "7de99ff658ff4b70b71e1d926e197c2f",
      "924adba37e6c41a9a6918b23b17ca01a",
      "b15b7306794a4899b1d886e98203265a",
      "0464574a102b46ae987a0351ec5627c2",
      "5a882d44858949f6bf792e65a1c9a26c",
      "ef9d8f5543924688b0699c2012ff170f",
      "53b2e8c06ddf416d9efeeb9f24deb4f0",
      "08d7bf2865a1463f8541d957243ab19e",
      "ec7c2cf30a5a4535af4325aa8270a184",
      "7c45e783b8e046b28f2d0afb20d06744",
      "0f7ad9b5e5714b79808af26683eed5bf",
      "8cdb1dfc15eb4f15a5b891c60270044d",
      "6dc8e924c0754cd0a70bfd5abff53630"
     ]
    },
    "id": "V2yl6rainWBZ",
    "outputId": "f7ecf5a8-4bad-4a6a-add5-fcb9e629a43e"
   },
   "outputs": [
    {
     "data": {
      "text/plain": [
       "ASTForAudioClassification(\n",
       "  (audio_spectrogram_transformer): ASTModel(\n",
       "    (embeddings): ASTEmbeddings(\n",
       "      (patch_embeddings): ASTPatchEmbeddings(\n",
       "        (projection): Conv2d(1, 768, kernel_size=(16, 16), stride=(10, 10))\n",
       "      )\n",
       "      (dropout): Dropout(p=0.0, inplace=False)\n",
       "    )\n",
       "    (encoder): ASTEncoder(\n",
       "      (layer): ModuleList(\n",
       "        (0-11): 12 x ASTLayer(\n",
       "          (attention): ASTAttention(\n",
       "            (attention): ASTSelfAttention(\n",
       "              (query): Linear(in_features=768, out_features=768, bias=True)\n",
       "              (key): Linear(in_features=768, out_features=768, bias=True)\n",
       "              (value): Linear(in_features=768, out_features=768, bias=True)\n",
       "              (dropout): Dropout(p=0.0, inplace=False)\n",
       "            )\n",
       "            (output): ASTSelfOutput(\n",
       "              (dense): Linear(in_features=768, out_features=768, bias=True)\n",
       "              (dropout): Dropout(p=0.0, inplace=False)\n",
       "            )\n",
       "          )\n",
       "          (intermediate): ASTIntermediate(\n",
       "            (dense): Linear(in_features=768, out_features=3072, bias=True)\n",
       "            (intermediate_act_fn): GELUActivation()\n",
       "          )\n",
       "          (output): ASTOutput(\n",
       "            (dense): Linear(in_features=3072, out_features=768, bias=True)\n",
       "            (dropout): Dropout(p=0.0, inplace=False)\n",
       "          )\n",
       "          (layernorm_before): LayerNorm((768,), eps=1e-12, elementwise_affine=True)\n",
       "          (layernorm_after): LayerNorm((768,), eps=1e-12, elementwise_affine=True)\n",
       "        )\n",
       "      )\n",
       "    )\n",
       "    (layernorm): LayerNorm((768,), eps=1e-12, elementwise_affine=True)\n",
       "  )\n",
       "  (classifier): ASTMLPHead(\n",
       "    (layernorm): LayerNorm((768,), eps=1e-12, elementwise_affine=True)\n",
       "    (dense): Linear(in_features=768, out_features=527, bias=True)\n",
       "  )\n",
       ")"
      ]
     },
     "execution_count": 13,
     "metadata": {},
     "output_type": "execute_result"
    }
   ],
   "source": [
    "AutoModelForAudioClassification.from_pretrained(\"MIT/ast-finetuned-audioset-10-10-0.448\") # ast-finetuned-audioset-10-10-0.448"
   ]
  },
  {
   "cell_type": "code",
   "execution_count": 19,
   "metadata": {
    "colab": {
     "base_uri": "https://localhost:8080/"
    },
    "id": "5xgV_jbJg2KN",
    "outputId": "0f39e2c9-ebb4-4631-b13b-d449e1547efd"
   },
   "outputs": [
    {
     "name": "stderr",
     "output_type": "stream",
     "text": [
      "Some weights of ASTForAudioClassification were not initialized from the model checkpoint at MIT/ast-finetuned-audioset-10-10-0.448 and are newly initialized because the shapes did not match:\n",
      "- classifier.dense.weight: found shape torch.Size([527, 768]) in the checkpoint and torch.Size([41, 768]) in the model instantiated\n",
      "- classifier.dense.bias: found shape torch.Size([527]) in the checkpoint and torch.Size([41]) in the model instantiated\n",
      "You should probably TRAIN this model on a down-stream task to be able to use it for predictions and inference.\n"
     ]
    }
   ],
   "source": [
    "model = AutoModelForAudioClassification.from_pretrained(\"MIT/ast-finetuned-audioset-10-10-0.448\", \n",
    "                                                        num_labels=len(id_to_label), \n",
    "                                                        ignore_mismatched_sizes=True)\n",
    "model.config.id2label = id_to_label\n",
    "model.config.label2id = label_to_id\n",
    "model.config._num_labels = len(id_to_label)\n",
    "model.config.num_labels = len(id_to_label)\n",
    "model.requires_grad_(False)\n",
    "#model.classifier = nn.Linear(in_features=768, \n",
    "#                             out_features=len(id_to_label), bias=True)\n",
    "\n",
    "model.classifier = nn.Sequential(\n",
    "           nn.Linear(in_features=768, \n",
    "                             out_features=256, bias=True),\n",
    "           nn.Linear(in_features=256, \n",
    "                             out_features=len(id_to_label), bias=True)\n",
    "\n",
    ")\n",
    "\n",
    "# model.classifier = nn.Sequential(\n",
    "#           nn.Conv1d(1,20,2), # 767\n",
    "#           nn.ReLU(),\n",
    "#           nn.Conv1d(20,64,2), # 766\n",
    "#           nn.ReLU(),\n",
    "#           nn.Linear(in_features=49024, out_features=len(id_to_label), bias=True)\n",
    "#         )\n",
    "model.classifier.requires_grad_(True)\n",
    "model.to(device)\n",
    "\n",
    "optimizer = torch.optim.AdamW(model.parameters(), lr=5e-5)"
   ]
  },
  {
   "cell_type": "code",
   "execution_count": 20,
   "metadata": {
    "colab": {
     "base_uri": "https://localhost:8080/"
    },
    "id": "GqOnYdScyLFF",
    "outputId": "218a09ab-4b9d-44a5-83bf-38c424a74213"
   },
   "outputs": [
    {
     "data": {
      "text/plain": [
       "Sequential(\n",
       "  (0): Linear(in_features=768, out_features=256, bias=True)\n",
       "  (1): Linear(in_features=256, out_features=41, bias=True)\n",
       ")"
      ]
     },
     "execution_count": 20,
     "metadata": {},
     "output_type": "execute_result"
    }
   ],
   "source": [
    "model.classifier"
   ]
  },
  {
   "cell_type": "code",
   "execution_count": 21,
   "metadata": {
    "colab": {
     "base_uri": "https://localhost:8080/"
    },
    "id": "hx-xvv7p8eQk",
    "outputId": "b7c1e407-44b0-4824-d9c8-f9ded5bb8737"
   },
   "outputs": [
    {
     "data": {
      "text/plain": [
       "(41, 41)"
      ]
     },
     "execution_count": 21,
     "metadata": {},
     "output_type": "execute_result"
    }
   ],
   "source": [
    "model.num_labels, len(id_to_label)"
   ]
  },
  {
   "cell_type": "code",
   "execution_count": 22,
   "metadata": {
    "colab": {
     "base_uri": "https://localhost:8080/"
    },
    "id": "IDPKlDLQyDHn",
    "outputId": "045eca50-2e3f-40ae-cab0-a45fd4c4c6dd"
   },
   "outputs": [
    {
     "data": {
      "text/plain": [
       "ASTConfig {\n",
       "  \"_name_or_path\": \"MIT/ast-finetuned-audioset-10-10-0.448\",\n",
       "  \"_num_labels\": 41,\n",
       "  \"architectures\": [\n",
       "    \"ASTForAudioClassification\"\n",
       "  ],\n",
       "  \"attention_probs_dropout_prob\": 0.0,\n",
       "  \"frequency_stride\": 10,\n",
       "  \"hidden_act\": \"gelu\",\n",
       "  \"hidden_dropout_prob\": 0.0,\n",
       "  \"hidden_size\": 768,\n",
       "  \"id2label\": [\n",
       "    \"Acoustic_guitar\",\n",
       "    \"Applause\",\n",
       "    \"Bark\",\n",
       "    \"Bass_drum\",\n",
       "    \"Burping_or_eructation\",\n",
       "    \"Bus\",\n",
       "    \"Cello\",\n",
       "    \"Chime\",\n",
       "    \"Clarinet\",\n",
       "    \"Computer_keyboard\",\n",
       "    \"Cough\",\n",
       "    \"Cowbell\",\n",
       "    \"Double_bass\",\n",
       "    \"Drawer_open_or_close\",\n",
       "    \"Electric_piano\",\n",
       "    \"Fart\",\n",
       "    \"Finger_snapping\",\n",
       "    \"Fireworks\",\n",
       "    \"Flute\",\n",
       "    \"Glockenspiel\",\n",
       "    \"Gong\",\n",
       "    \"Gunshot_or_gunfire\",\n",
       "    \"Harmonica\",\n",
       "    \"Hi-hat\",\n",
       "    \"Keys_jangling\",\n",
       "    \"Knock\",\n",
       "    \"Laughter\",\n",
       "    \"Meow\",\n",
       "    \"Microwave_oven\",\n",
       "    \"Oboe\",\n",
       "    \"Saxophone\",\n",
       "    \"Scissors\",\n",
       "    \"Shatter\",\n",
       "    \"Snare_drum\",\n",
       "    \"Squeak\",\n",
       "    \"Tambourine\",\n",
       "    \"Tearing\",\n",
       "    \"Telephone\",\n",
       "    \"Trumpet\",\n",
       "    \"Violin_or_fiddle\",\n",
       "    \"Writing\"\n",
       "  ],\n",
       "  \"initializer_range\": 0.02,\n",
       "  \"intermediate_size\": 3072,\n",
       "  \"label2id\": {\n",
       "    \"Acoustic_guitar\": 0,\n",
       "    \"Applause\": 1,\n",
       "    \"Bark\": 2,\n",
       "    \"Bass_drum\": 3,\n",
       "    \"Burping_or_eructation\": 4,\n",
       "    \"Bus\": 5,\n",
       "    \"Cello\": 6,\n",
       "    \"Chime\": 7,\n",
       "    \"Clarinet\": 8,\n",
       "    \"Computer_keyboard\": 9,\n",
       "    \"Cough\": 10,\n",
       "    \"Cowbell\": 11,\n",
       "    \"Double_bass\": 12,\n",
       "    \"Drawer_open_or_close\": 13,\n",
       "    \"Electric_piano\": 14,\n",
       "    \"Fart\": 15,\n",
       "    \"Finger_snapping\": 16,\n",
       "    \"Fireworks\": 17,\n",
       "    \"Flute\": 18,\n",
       "    \"Glockenspiel\": 19,\n",
       "    \"Gong\": 20,\n",
       "    \"Gunshot_or_gunfire\": 21,\n",
       "    \"Harmonica\": 22,\n",
       "    \"Hi-hat\": 23,\n",
       "    \"Keys_jangling\": 24,\n",
       "    \"Knock\": 25,\n",
       "    \"Laughter\": 26,\n",
       "    \"Meow\": 27,\n",
       "    \"Microwave_oven\": 28,\n",
       "    \"Oboe\": 29,\n",
       "    \"Saxophone\": 30,\n",
       "    \"Scissors\": 31,\n",
       "    \"Shatter\": 32,\n",
       "    \"Snare_drum\": 33,\n",
       "    \"Squeak\": 34,\n",
       "    \"Tambourine\": 35,\n",
       "    \"Tearing\": 36,\n",
       "    \"Telephone\": 37,\n",
       "    \"Trumpet\": 38,\n",
       "    \"Violin_or_fiddle\": 39,\n",
       "    \"Writing\": 40\n",
       "  },\n",
       "  \"layer_norm_eps\": 1e-12,\n",
       "  \"max_length\": 1024,\n",
       "  \"model_type\": \"audio-spectrogram-transformer\",\n",
       "  \"num_attention_heads\": 12,\n",
       "  \"num_hidden_layers\": 12,\n",
       "  \"num_mel_bins\": 128,\n",
       "  \"patch_size\": 16,\n",
       "  \"qkv_bias\": true,\n",
       "  \"time_stride\": 10,\n",
       "  \"torch_dtype\": \"float32\",\n",
       "  \"transformers_version\": \"4.29.1\"\n",
       "}"
      ]
     },
     "execution_count": 22,
     "metadata": {},
     "output_type": "execute_result"
    }
   ],
   "source": [
    "model.config"
   ]
  },
  {
   "cell_type": "code",
   "execution_count": 23,
   "metadata": {
    "colab": {
     "base_uri": "https://localhost:8080/",
     "height": 1000
    },
    "id": "-r-NWsrlf_Xa",
    "outputId": "b64ac9b1-caa5-416e-e596-723649e59c6e"
   },
   "outputs": [
    {
     "name": "stdout",
     "output_type": "stream",
     "text": [
      "epoch #1\n",
      "[train] mean loss: 3.019329773752313\n",
      "[train] f1-score:  0.3195733273566459\n",
      "[val] mean loss:   2.407400035858154\n",
      "[val] f1-score:    0.5103371015946027\n",
      "\n",
      "epoch #2\n"
     ]
    },
    {
     "ename": "KeyboardInterrupt",
     "evalue": "",
     "output_type": "error",
     "traceback": [
      "\u001b[0;31m---------------------------------------------------------------------------\u001b[0m",
      "\u001b[0;31mKeyboardInterrupt\u001b[0m                         Traceback (most recent call last)",
      "Cell \u001b[0;32mIn[23], line 24\u001b[0m\n\u001b[1;32m     22\u001b[0m outputs \u001b[38;5;241m=\u001b[39m model(inputs, labels\u001b[38;5;241m=\u001b[39mlabels\u001b[38;5;241m.\u001b[39mlong())\n\u001b[1;32m     23\u001b[0m loss \u001b[38;5;241m=\u001b[39m outputs\u001b[38;5;241m.\u001b[39mloss\n\u001b[0;32m---> 24\u001b[0m loss_list\u001b[38;5;241m.\u001b[39mappend(\u001b[43mloss\u001b[49m\u001b[38;5;241;43m.\u001b[39;49m\u001b[43mitem\u001b[49m\u001b[43m(\u001b[49m\u001b[43m)\u001b[49m)\n\u001b[1;32m     25\u001b[0m outs\u001b[38;5;241m.\u001b[39mappend(outputs\u001b[38;5;241m.\u001b[39mlogits\u001b[38;5;241m.\u001b[39margmax(\u001b[38;5;241m-\u001b[39m\u001b[38;5;241m1\u001b[39m))\n\u001b[1;32m     26\u001b[0m tgts\u001b[38;5;241m.\u001b[39mappend(labels)\n",
      "\u001b[0;31mKeyboardInterrupt\u001b[0m: "
     ]
    }
   ],
   "source": [
    "start_time = time.time()\n",
    "\n",
    "epochs = 20\n",
    "train_loss = []\n",
    "val_loss = []\n",
    "train_f1 = []\n",
    "val_f1 = []\n",
    "\n",
    "for epoch in range(epochs):\n",
    "    \n",
    "    if epoch % 1 == 0:\n",
    "        print(f'epoch #{epoch+1}')\n",
    "    \n",
    "    model.train()\n",
    "    loss_list = []\n",
    "    outs = []\n",
    "    tgts = []\n",
    "    \n",
    "    for i_batch, sample_batched in enumerate(train_loader):\n",
    "        \n",
    "        inputs, labels = sample_batched\n",
    "        outputs = model(inputs, labels=labels.long())\n",
    "        loss = outputs.loss\n",
    "        loss_list.append(loss.item())\n",
    "        outs.append(outputs.logits.argmax(-1))\n",
    "        tgts.append(labels)\n",
    "        \n",
    "        loss.backward()\n",
    "        optimizer.step()\n",
    "        optimizer.zero_grad()\n",
    "    \n",
    "    y_true = torch.hstack(tgts).numpy(force=True)\n",
    "    y_pred = torch.hstack(outs).numpy(force=True)\n",
    "    f1 = f1_score(y_true, y_pred, average='weighted')\n",
    "    train_loss.append(np.mean(loss_list))\n",
    "    train_f1.append(f1)\n",
    "    if epoch % 1 == 0:\n",
    "        print(f'[train] mean loss: {train_loss[-1]}')\n",
    "        print(f'[train] f1-score:  {f1}')\n",
    "    \n",
    "    model.eval()\n",
    "    loss_list = []\n",
    "    outs = []\n",
    "    tgts = []\n",
    "    \n",
    "    with torch.no_grad():\n",
    "        for i_batch, sample_batched in enumerate(val_loader):\n",
    "            \n",
    "            inputs, labels = sample_batched\n",
    "            outputs = model(inputs, labels=labels.long())\n",
    "            loss = outputs.loss\n",
    "            loss_list.append(loss.item())\n",
    "            outs.append(outputs.logits.argmax(-1))\n",
    "            tgts.append(labels)\n",
    "        \n",
    "        y_true = torch.hstack(tgts).numpy(force=True)\n",
    "        y_pred = torch.hstack(outs).numpy(force=True)\n",
    "        f1 = f1_score(y_true, y_pred, average='weighted')\n",
    "        val_loss.append(np.mean(loss_list))\n",
    "        val_f1.append(f1)\n",
    "        if epoch % 1 == 0:\n",
    "            print(f'[val] mean loss:   {val_loss[-1]}')\n",
    "            print(f'[val] f1-score:    {f1}', end=\"\\n\\n\")\n",
    "        \n",
    "\n",
    "print(f\"Execution time: {(time.time() - start_time):.2f} seconds\")"
   ]
  },
  {
   "cell_type": "code",
   "execution_count": 18,
   "metadata": {
    "colab": {
     "base_uri": "https://localhost:8080/"
    },
    "id": "n_gIM8T3nxFf",
    "outputId": "1d6d326a-b8fc-4632-c7c9-5a8e966cba4b"
   },
   "outputs": [
    {
     "data": {
      "text/plain": [
       "{0: 'Acoustic_guitar',\n",
       " 1: 'Applause',\n",
       " 2: 'Bark',\n",
       " 3: 'Bass_drum',\n",
       " 4: 'Burping_or_eructation',\n",
       " 5: 'Bus',\n",
       " 6: 'Cello',\n",
       " 7: 'Chime',\n",
       " 8: 'Clarinet',\n",
       " 9: 'Computer_keyboard',\n",
       " 10: 'Cough',\n",
       " 11: 'Cowbell',\n",
       " 12: 'Double_bass',\n",
       " 13: 'Drawer_open_or_close',\n",
       " 14: 'Electric_piano',\n",
       " 15: 'Fart',\n",
       " 16: 'Finger_snapping',\n",
       " 17: 'Fireworks',\n",
       " 18: 'Flute',\n",
       " 19: 'Glockenspiel',\n",
       " 20: 'Gong',\n",
       " 21: 'Gunshot_or_gunfire',\n",
       " 22: 'Harmonica',\n",
       " 23: 'Hi-hat',\n",
       " 24: 'Keys_jangling',\n",
       " 25: 'Knock',\n",
       " 26: 'Laughter',\n",
       " 27: 'Meow',\n",
       " 28: 'Microwave_oven',\n",
       " 29: 'Oboe',\n",
       " 30: 'Saxophone',\n",
       " 31: 'Scissors',\n",
       " 32: 'Shatter',\n",
       " 33: 'Snare_drum',\n",
       " 34: 'Squeak',\n",
       " 35: 'Tambourine',\n",
       " 36: 'Tearing',\n",
       " 37: 'Telephone',\n",
       " 38: 'Trumpet',\n",
       " 39: 'Violin_or_fiddle',\n",
       " 40: 'Writing'}"
      ]
     },
     "execution_count": 18,
     "metadata": {},
     "output_type": "execute_result"
    }
   ],
   "source": [
    "{id: label for id, label in enumerate(id_to_label)}"
   ]
  },
  {
   "cell_type": "code",
   "execution_count": 19,
   "metadata": {
    "id": "NSZNhIr9mloj"
   },
   "outputs": [],
   "source": [
    "model.config.id2label = {id: label for id, label in enumerate(id_to_label)}\n",
    "model.save_pretrained(\"model_weights\", from_pt=True)"
   ]
  },
  {
   "cell_type": "code",
   "execution_count": 20,
   "metadata": {
    "colab": {
     "base_uri": "https://localhost:8080/"
    },
    "id": "5VS5VumTtVA0",
    "outputId": "43d57fb3-4fe6-4932-d1a6-b2bb165d0a01"
   },
   "outputs": [
    {
     "name": "stderr",
     "output_type": "stream",
     "text": [
      "Some weights of the model checkpoint at model_weights were not used when initializing ASTForAudioClassification: ['classifier.weight', 'classifier.bias']\n",
      "- This IS expected if you are initializing ASTForAudioClassification from the checkpoint of a model trained on another task or with another architecture (e.g. initializing a BertForSequenceClassification model from a BertForPreTraining model).\n",
      "- This IS NOT expected if you are initializing ASTForAudioClassification from the checkpoint of a model that you expect to be exactly identical (initializing a BertForSequenceClassification model from a BertForSequenceClassification model).\n",
      "Some weights of ASTForAudioClassification were not initialized from the model checkpoint at model_weights and are newly initialized: ['classifier.dense.weight', 'classifier.dense.bias', 'classifier.layernorm.weight', 'classifier.layernorm.bias']\n",
      "You should probably TRAIN this model on a down-stream task to be able to use it for predictions and inference.\n"
     ]
    }
   ],
   "source": [
    "torch.cuda.empty_cache()\n",
    "inference = AutoModelForAudioClassification.from_pretrained(\"model_weights\")\n",
    "\n",
    "outputs_infer = []\n",
    "output_formated_infer = []\n",
    "\n",
    "x_test = []\n",
    "for i, row in enumerate(test_data):\n",
    "    feature = row['feature']\n",
    "    x_test.append(feature)\n",
    "test_dset = EventDetectionDataset(x_test, None, device=device, set_type=SetType.TEST)\n",
    "test_loader = DataLoader(test_dset, batch_size=8, shuffle=False, \n",
    "                         num_workers=num_workers, drop_last=False)\n"
   ]
  },
  {
   "cell_type": "code",
   "execution_count": 21,
   "metadata": {
    "id": "HvLsi32XZ7nH"
   },
   "outputs": [],
   "source": [
    "inference.to(device)\n",
    "inference.eval()\n",
    "with torch.no_grad():\n",
    "  for i_batch, sample_batched in enumerate(test_loader):\n",
    "    x = sample_batched\n",
    "\n",
    "    output_infer = model(x)\n",
    "    outputs_infer.append(output_infer.logits.argmax(-1))\n",
    "  output_formated_infer = torch.hstack(outputs_infer).numpy(force=True)"
   ]
  },
  {
   "cell_type": "code",
   "execution_count": 22,
   "metadata": {
    "colab": {
     "base_uri": "https://localhost:8080/"
    },
    "id": "NqMjDlQLZ8Kk",
    "outputId": "0e8e5d5e-d46d-494e-b84e-e922dd07fcb0"
   },
   "outputs": [
    {
     "name": "stdout",
     "output_type": "stream",
     "text": [
      "['Oboe', 'Double_bass', 'Clarinet', 'Harmonica', 'Burping_or_eructation', 'Fart', 'Tambourine', 'Bus', 'Hi-hat', 'Snare_drum', 'Telephone', 'Flute', 'Laughter', 'Cough', 'Fireworks', 'Cello', 'Hi-hat', 'Tearing', 'Acoustic_guitar', 'Bass_drum', 'Snare_drum', 'Gong', 'Shatter', 'Cello', 'Tearing', 'Burping_or_eructation', 'Laughter', 'Burping_or_eructation', 'Double_bass', 'Burping_or_eructation', 'Bus', 'Shatter', 'Acoustic_guitar', 'Tearing', 'Flute', 'Snare_drum', 'Chime', 'Knock', 'Snare_drum', 'Violin_or_fiddle', 'Flute', 'Cowbell', 'Applause', 'Glockenspiel', 'Squeak', 'Burping_or_eructation', 'Writing', 'Acoustic_guitar', 'Tearing', 'Snare_drum', 'Cough', 'Clarinet', 'Glockenspiel', 'Fireworks', 'Cough', 'Drawer_open_or_close', 'Trumpet', 'Violin_or_fiddle', 'Writing', 'Cowbell', 'Applause', 'Trumpet', 'Oboe', 'Keys_jangling', 'Bark', 'Snare_drum', 'Gunshot_or_gunfire', 'Burping_or_eructation', 'Squeak', 'Fart', 'Drawer_open_or_close', 'Acoustic_guitar', 'Clarinet', 'Cough', 'Electric_piano', 'Shatter', 'Gong', 'Tambourine', 'Acoustic_guitar', 'Saxophone', 'Trumpet', 'Bass_drum', 'Microwave_oven', 'Applause', 'Applause', 'Squeak', 'Cowbell', 'Applause', 'Cello', 'Shatter', 'Fireworks', 'Fart', 'Clarinet', 'Knock', 'Flute', 'Fireworks', 'Cello', 'Shatter', 'Laughter', 'Bark', 'Writing', 'Oboe', 'Double_bass', 'Gong', 'Snare_drum', 'Cowbell', 'Double_bass', 'Oboe', 'Microwave_oven', 'Cowbell', 'Gong', 'Keys_jangling', 'Glockenspiel', 'Trumpet', 'Bark', 'Electric_piano', 'Writing', 'Squeak', 'Telephone', 'Cough', 'Bark', 'Telephone', 'Violin_or_fiddle', 'Acoustic_guitar', 'Oboe', 'Computer_keyboard', 'Knock', 'Fireworks', 'Electric_piano', 'Gunshot_or_gunfire', 'Saxophone', 'Fireworks', 'Drawer_open_or_close', 'Flute', 'Fart', 'Saxophone', 'Meow', 'Oboe', 'Bus', 'Bus', 'Tearing', 'Writing', 'Oboe', 'Gong', 'Saxophone', 'Microwave_oven', 'Snare_drum', 'Acoustic_guitar', 'Clarinet', 'Laughter', 'Laughter', 'Snare_drum', 'Shatter', 'Bark', 'Keys_jangling', 'Double_bass', 'Clarinet', 'Applause', 'Trumpet', 'Flute', 'Oboe', 'Gong', 'Electric_piano', 'Applause', 'Violin_or_fiddle', 'Fart', 'Electric_piano', 'Tearing', 'Flute', 'Fart', 'Snare_drum', 'Shatter', 'Clarinet', 'Fart', 'Telephone', 'Shatter', 'Double_bass', 'Hi-hat', 'Finger_snapping', 'Finger_snapping', 'Gong', 'Gong', 'Fireworks', 'Acoustic_guitar', 'Fart', 'Writing', 'Gunshot_or_gunfire', 'Applause', 'Trumpet', 'Cough', 'Burping_or_eructation', 'Violin_or_fiddle', 'Bass_drum', 'Cowbell', 'Bus', 'Acoustic_guitar', 'Fireworks', 'Oboe', 'Snare_drum', 'Fireworks', 'Harmonica', 'Burping_or_eructation', 'Glockenspiel', 'Squeak', 'Harmonica', 'Fart', 'Hi-hat', 'Acoustic_guitar', 'Bass_drum', 'Computer_keyboard', 'Bass_drum', 'Cough', 'Writing', 'Fart', 'Double_bass', 'Bass_drum', 'Shatter', 'Gong', 'Applause', 'Electric_piano', 'Knock', 'Acoustic_guitar', 'Snare_drum', 'Meow', 'Violin_or_fiddle', 'Finger_snapping', 'Flute', 'Flute', 'Burping_or_eructation', 'Clarinet', 'Saxophone', 'Laughter', 'Hi-hat', 'Squeak', 'Gong', 'Fart', 'Applause', 'Computer_keyboard', 'Shatter', 'Knock', 'Keys_jangling', 'Chime', 'Cowbell', 'Tambourine', 'Writing', 'Double_bass', 'Cough', 'Applause', 'Clarinet', 'Glockenspiel', 'Violin_or_fiddle', 'Gunshot_or_gunfire', 'Tambourine', 'Keys_jangling', 'Fart', 'Bark', 'Applause', 'Gong', 'Writing', 'Cough', 'Oboe', 'Keys_jangling', 'Laughter', 'Double_bass', 'Bass_drum', 'Hi-hat', 'Double_bass', 'Clarinet', 'Applause', 'Writing', 'Gong', 'Gong', 'Hi-hat', 'Cello', 'Clarinet', 'Flute', 'Scissors', 'Fart', 'Fireworks', 'Gong', 'Cough', 'Gong', 'Violin_or_fiddle', 'Squeak', 'Gunshot_or_gunfire', 'Harmonica', 'Saxophone', 'Burping_or_eructation', 'Cough', 'Bark', 'Gunshot_or_gunfire', 'Fart', 'Tearing', 'Knock', 'Trumpet', 'Gong', 'Cough', 'Microwave_oven', 'Cello', 'Keys_jangling', 'Drawer_open_or_close', 'Squeak', 'Fireworks', 'Violin_or_fiddle', 'Cello', 'Fart', 'Fireworks', 'Clarinet', 'Cough', 'Squeak', 'Fart', 'Trumpet', 'Snare_drum', 'Bass_drum', 'Cowbell', 'Keys_jangling', 'Bark', 'Cowbell', 'Tearing', 'Squeak', 'Violin_or_fiddle', 'Violin_or_fiddle', 'Flute', 'Violin_or_fiddle', 'Squeak', 'Laughter', 'Acoustic_guitar', 'Knock', 'Cello', 'Snare_drum', 'Fart', 'Applause', 'Oboe', 'Violin_or_fiddle', 'Telephone', 'Cough', 'Snare_drum', 'Saxophone', 'Cough', 'Tearing', 'Acoustic_guitar', 'Drawer_open_or_close', 'Violin_or_fiddle', 'Bass_drum', 'Flute', 'Hi-hat', 'Double_bass', 'Tambourine', 'Gong', 'Meow', 'Scissors', 'Cello', 'Bark', 'Squeak', 'Writing', 'Bass_drum', 'Saxophone', 'Clarinet', 'Acoustic_guitar', 'Flute', 'Applause', 'Gunshot_or_gunfire', 'Flute', 'Fireworks', 'Gong', 'Bark', 'Finger_snapping', 'Laughter', 'Violin_or_fiddle', 'Shatter', 'Finger_snapping', 'Snare_drum', 'Trumpet', 'Snare_drum', 'Gunshot_or_gunfire', 'Cough', 'Laughter', 'Writing', 'Oboe', 'Cello', 'Fireworks', 'Electric_piano', 'Computer_keyboard', 'Gong', 'Fireworks', 'Violin_or_fiddle', 'Acoustic_guitar', 'Electric_piano', 'Violin_or_fiddle', 'Gunshot_or_gunfire', 'Double_bass', 'Cough', 'Shatter', 'Snare_drum', 'Chime', 'Keys_jangling', 'Fart', 'Computer_keyboard', 'Double_bass', 'Clarinet', 'Squeak', 'Writing', 'Tambourine', 'Oboe', 'Gunshot_or_gunfire', 'Cello', 'Flute', 'Saxophone', 'Knock', 'Knock', 'Violin_or_fiddle', 'Shatter', 'Drawer_open_or_close', 'Clarinet', 'Acoustic_guitar', 'Oboe', 'Snare_drum', 'Shatter', 'Bus', 'Bass_drum', 'Clarinet', 'Snare_drum', 'Harmonica', 'Laughter', 'Drawer_open_or_close', 'Finger_snapping', 'Squeak', 'Bass_drum', 'Burping_or_eructation', 'Violin_or_fiddle', 'Fart', 'Tearing', 'Shatter', 'Oboe', 'Fireworks', 'Tearing', 'Violin_or_fiddle', 'Burping_or_eructation', 'Squeak', 'Gong', 'Trumpet', 'Gong', 'Double_bass', 'Bus', 'Burping_or_eructation', 'Gong', 'Trumpet', 'Gong', 'Snare_drum', 'Snare_drum', 'Bass_drum', 'Saxophone', 'Tambourine', 'Snare_drum', 'Bass_drum', 'Tearing', 'Shatter', 'Clarinet', 'Cowbell', 'Microwave_oven', 'Acoustic_guitar', 'Hi-hat', 'Shatter', 'Hi-hat', 'Oboe', 'Meow', 'Trumpet', 'Hi-hat', 'Burping_or_eructation', 'Trumpet', 'Squeak', 'Oboe', 'Double_bass', 'Bark', 'Knock', 'Applause', 'Tearing', 'Flute', 'Writing', 'Cello', 'Fireworks', 'Bus', 'Knock', 'Acoustic_guitar', 'Tearing', 'Drawer_open_or_close', 'Cowbell', 'Acoustic_guitar', 'Burping_or_eructation', 'Clarinet', 'Fart', 'Applause', 'Bass_drum', 'Squeak', 'Finger_snapping', 'Oboe', 'Trumpet', 'Tearing', 'Burping_or_eructation', 'Fireworks', 'Flute', 'Glockenspiel', 'Cello', 'Bass_drum', 'Tearing', 'Fireworks', 'Keys_jangling', 'Microwave_oven', 'Keys_jangling', 'Violin_or_fiddle', 'Violin_or_fiddle', 'Saxophone', 'Chime', 'Tearing', 'Writing', 'Scissors', 'Cowbell', 'Saxophone', 'Double_bass', 'Gong', 'Violin_or_fiddle', 'Trumpet', 'Acoustic_guitar', 'Keys_jangling', 'Hi-hat', 'Knock', 'Oboe', 'Glockenspiel', 'Tearing', 'Cough', 'Snare_drum', 'Harmonica', 'Bass_drum', 'Acoustic_guitar', 'Computer_keyboard', 'Gong', 'Bark', 'Clarinet', 'Oboe', 'Flute', 'Keys_jangling', 'Saxophone', 'Gunshot_or_gunfire', 'Tambourine', 'Violin_or_fiddle', 'Computer_keyboard', 'Writing', 'Gong', 'Clarinet', 'Laughter', 'Violin_or_fiddle', 'Cello', 'Saxophone', 'Knock', 'Fireworks', 'Finger_snapping', 'Keys_jangling', 'Burping_or_eructation', 'Writing', 'Hi-hat', 'Knock', 'Cello', 'Telephone', 'Gong', 'Bass_drum', 'Fart', 'Snare_drum', 'Cough', 'Gunshot_or_gunfire', 'Laughter', 'Oboe', 'Double_bass', 'Shatter', 'Saxophone', 'Laughter', 'Tearing', 'Saxophone', 'Cello', 'Trumpet', 'Double_bass', 'Fart', 'Laughter', 'Cello', 'Trumpet', 'Hi-hat', 'Acoustic_guitar', 'Glockenspiel', 'Clarinet', 'Knock', 'Applause', 'Harmonica', 'Writing', 'Acoustic_guitar', 'Bark', 'Trumpet', 'Tambourine', 'Flute', 'Shatter', 'Gong', 'Knock', 'Fireworks', 'Glockenspiel', 'Drawer_open_or_close', 'Knock', 'Hi-hat', 'Snare_drum', 'Microwave_oven', 'Flute', 'Laughter', 'Tearing', 'Squeak', 'Gong', 'Tambourine', 'Glockenspiel', 'Fireworks', 'Fart', 'Saxophone', 'Microwave_oven', 'Fireworks', 'Gong', 'Squeak', 'Flute', 'Oboe', 'Squeak', 'Fireworks', 'Telephone', 'Tambourine', 'Bark', 'Acoustic_guitar', 'Clarinet', 'Writing', 'Cowbell', 'Snare_drum', 'Drawer_open_or_close', 'Cowbell', 'Finger_snapping', 'Acoustic_guitar', 'Double_bass', 'Bass_drum', 'Violin_or_fiddle', 'Cowbell', 'Gunshot_or_gunfire', 'Hi-hat', 'Trumpet', 'Gong', 'Violin_or_fiddle', 'Flute', 'Laughter', 'Applause', 'Tearing', 'Finger_snapping', 'Flute', 'Bark', 'Fireworks', 'Knock', 'Glockenspiel', 'Applause', 'Cowbell', 'Violin_or_fiddle', 'Gong', 'Burping_or_eructation', 'Applause', 'Harmonica', 'Tearing', 'Harmonica', 'Saxophone', 'Microwave_oven', 'Cough', 'Oboe', 'Hi-hat', 'Trumpet', 'Writing', 'Knock', 'Tambourine', 'Keys_jangling', 'Shatter', 'Finger_snapping', 'Chime', 'Violin_or_fiddle', 'Harmonica', 'Trumpet', 'Finger_snapping', 'Saxophone', 'Microwave_oven', 'Oboe', 'Gunshot_or_gunfire', 'Cello', 'Chime', 'Bass_drum', 'Computer_keyboard', 'Cello', 'Snare_drum', 'Cough', 'Bass_drum', 'Knock', 'Shatter', 'Trumpet', 'Bass_drum', 'Flute', 'Fireworks', 'Cello', 'Shatter', 'Hi-hat', 'Bark', 'Hi-hat', 'Flute', 'Gong', 'Bus', 'Harmonica', 'Knock', 'Oboe', 'Glockenspiel', 'Flute', 'Bass_drum', 'Electric_piano', 'Violin_or_fiddle', 'Bass_drum', 'Squeak', 'Cowbell', 'Writing', 'Tearing', 'Laughter', 'Chime', 'Squeak', 'Bass_drum', 'Telephone', 'Glockenspiel', 'Fireworks', 'Telephone', 'Tambourine', 'Tearing', 'Cello', 'Knock', 'Bass_drum', 'Oboe', 'Fart', 'Double_bass', 'Saxophone', 'Finger_snapping', 'Burping_or_eructation', 'Burping_or_eructation', 'Trumpet', 'Cowbell', 'Glockenspiel', 'Keys_jangling', 'Trumpet', 'Violin_or_fiddle', 'Writing', 'Bark', 'Gunshot_or_gunfire', 'Drawer_open_or_close', 'Knock', 'Trumpet', 'Hi-hat', 'Flute', 'Tearing', 'Gong', 'Tambourine', 'Squeak', 'Snare_drum', 'Trumpet', 'Harmonica', 'Saxophone', 'Applause', 'Acoustic_guitar', 'Cello', 'Tambourine', 'Bass_drum', 'Double_bass', 'Squeak', 'Fireworks', 'Saxophone', 'Acoustic_guitar', 'Cello', 'Oboe', 'Violin_or_fiddle', 'Fireworks', 'Cough', 'Knock', 'Squeak', 'Computer_keyboard', 'Laughter', 'Burping_or_eructation', 'Gong', 'Tearing', 'Bass_drum', 'Oboe', 'Snare_drum', 'Tearing', 'Meow', 'Saxophone', 'Double_bass', 'Writing', 'Telephone', 'Gunshot_or_gunfire', 'Bus', 'Keys_jangling', 'Laughter', 'Clarinet', 'Fart', 'Trumpet', 'Electric_piano', 'Saxophone', 'Scissors', 'Bus', 'Flute', 'Bark', 'Gong', 'Bus', 'Cello', 'Acoustic_guitar', 'Gong', 'Keys_jangling', 'Bass_drum', 'Oboe', 'Bus', 'Saxophone', 'Tambourine', 'Flute', 'Violin_or_fiddle', 'Clarinet', 'Flute', 'Trumpet', 'Microwave_oven', 'Bus', 'Laughter', 'Microwave_oven', 'Cello', 'Trumpet', 'Harmonica', 'Saxophone', 'Cello', 'Fireworks', 'Meow', 'Fart', 'Oboe', 'Applause', 'Squeak', 'Finger_snapping', 'Shatter', 'Keys_jangling', 'Bark', 'Knock', 'Flute', 'Burping_or_eructation', 'Hi-hat', 'Cough', 'Harmonica', 'Cough', 'Fireworks', 'Tearing', 'Double_bass', 'Acoustic_guitar', 'Computer_keyboard', 'Burping_or_eructation', 'Flute', 'Flute', 'Squeak', 'Drawer_open_or_close', 'Bass_drum', 'Cowbell', 'Writing', 'Telephone', 'Electric_piano', 'Telephone', 'Keys_jangling', 'Fireworks', 'Telephone', 'Microwave_oven', 'Violin_or_fiddle', 'Gunshot_or_gunfire', 'Squeak', 'Squeak', 'Cowbell', 'Clarinet', 'Tearing', 'Hi-hat', 'Burping_or_eructation', 'Snare_drum', 'Knock', 'Gong', 'Double_bass', 'Applause', 'Gunshot_or_gunfire', 'Cough', 'Clarinet', 'Cello', 'Computer_keyboard', 'Saxophone', 'Knock', 'Cough', 'Cough', 'Acoustic_guitar', 'Fart', 'Gong', 'Fireworks', 'Bass_drum', 'Flute', 'Shatter', 'Shatter', 'Writing', 'Fireworks', 'Microwave_oven', 'Hi-hat', 'Tambourine', 'Harmonica', 'Cello', 'Applause', 'Squeak', 'Clarinet', 'Keys_jangling', 'Violin_or_fiddle', 'Tearing', 'Writing', 'Bus', 'Meow', 'Harmonica', 'Bark', 'Bass_drum', 'Oboe', 'Acoustic_guitar', 'Meow', 'Tambourine', 'Tambourine', 'Squeak', 'Burping_or_eructation', 'Tearing', 'Chime', 'Applause', 'Fireworks', 'Fireworks', 'Violin_or_fiddle', 'Finger_snapping', 'Fireworks', 'Knock', 'Writing', 'Laughter', 'Cough', 'Snare_drum', 'Saxophone', 'Snare_drum', 'Knock', 'Meow', 'Microwave_oven', 'Burping_or_eructation', 'Applause', 'Double_bass', 'Violin_or_fiddle', 'Applause', 'Gong', 'Microwave_oven', 'Drawer_open_or_close', 'Finger_snapping', 'Double_bass', 'Tearing', 'Flute', 'Gunshot_or_gunfire', 'Knock', 'Clarinet', 'Chime', 'Knock', 'Bus', 'Fart', 'Cello', 'Electric_piano', 'Tambourine', 'Fart', 'Tearing', 'Bark', 'Writing', 'Violin_or_fiddle', 'Tearing', 'Glockenspiel', 'Saxophone', 'Fart', 'Writing', 'Snare_drum', 'Clarinet', 'Cello', 'Clarinet', 'Cough', 'Keys_jangling', 'Glockenspiel', 'Acoustic_guitar', 'Violin_or_fiddle', 'Cowbell', 'Drawer_open_or_close', 'Snare_drum', 'Gong', 'Hi-hat', 'Flute', 'Microwave_oven', 'Tambourine', 'Gong', 'Cello', 'Shatter', 'Cello', 'Squeak', 'Tearing', 'Oboe', 'Fart', 'Trumpet', 'Knock', 'Hi-hat', 'Bass_drum', 'Fireworks', 'Hi-hat', 'Cowbell', 'Tearing', 'Saxophone', 'Fireworks', 'Cello', 'Burping_or_eructation', 'Bark', 'Telephone', 'Snare_drum', 'Applause', 'Double_bass', 'Oboe', 'Burping_or_eructation', 'Gunshot_or_gunfire', 'Shatter', 'Tearing', 'Fireworks', 'Laughter', 'Telephone', 'Telephone', 'Cello', 'Meow', 'Keys_jangling', 'Gong', 'Double_bass', 'Violin_or_fiddle', 'Violin_or_fiddle', 'Gong', 'Bark', 'Applause', 'Scissors', 'Oboe', 'Violin_or_fiddle', 'Flute', 'Squeak', 'Fart', 'Cowbell', 'Microwave_oven', 'Acoustic_guitar', 'Gong', 'Gong', 'Clarinet', 'Fireworks', 'Microwave_oven', 'Trumpet', 'Burping_or_eructation', 'Hi-hat', 'Gong', 'Squeak', 'Burping_or_eructation', 'Saxophone', 'Burping_or_eructation', 'Acoustic_guitar', 'Saxophone', 'Gong', 'Hi-hat', 'Hi-hat', 'Fart', 'Cello', 'Computer_keyboard', 'Hi-hat', 'Double_bass', 'Hi-hat', 'Shatter', 'Violin_or_fiddle', 'Bass_drum', 'Applause', 'Knock', 'Oboe', 'Computer_keyboard', 'Double_bass', 'Snare_drum', 'Gunshot_or_gunfire', 'Microwave_oven', 'Burping_or_eructation', 'Violin_or_fiddle', 'Burping_or_eructation', 'Tearing', 'Clarinet', 'Knock', 'Shatter', 'Bus', 'Bass_drum', 'Tearing', 'Laughter', 'Snare_drum', 'Clarinet', 'Squeak', 'Drawer_open_or_close', 'Oboe', 'Microwave_oven', 'Applause', 'Oboe', 'Clarinet', 'Scissors', 'Snare_drum', 'Chime', 'Computer_keyboard', 'Fireworks', 'Trumpet', 'Burping_or_eructation', 'Snare_drum', 'Bass_drum', 'Oboe', 'Glockenspiel', 'Saxophone', 'Saxophone', 'Saxophone', 'Bark', 'Meow', 'Trumpet', 'Oboe', 'Applause', 'Squeak', 'Hi-hat', 'Fireworks', 'Tearing', 'Bark', 'Knock', 'Laughter', 'Bark', 'Meow', 'Writing', 'Fart', 'Double_bass', 'Harmonica', 'Bass_drum', 'Tearing', 'Flute', 'Snare_drum', 'Laughter', 'Chime', 'Bass_drum', 'Gong', 'Bark', 'Saxophone', 'Writing', 'Electric_piano', 'Cowbell', 'Snare_drum', 'Scissors', 'Cowbell', 'Fart', 'Oboe', 'Shatter', 'Cello', 'Gong', 'Trumpet', 'Knock', 'Bass_drum', 'Fart', 'Bark', 'Electric_piano', 'Oboe', 'Microwave_oven', 'Bass_drum', 'Snare_drum', 'Tambourine', 'Tambourine', 'Hi-hat', 'Flute', 'Double_bass', 'Squeak', 'Applause', 'Saxophone', 'Knock', 'Saxophone', 'Fart', 'Violin_or_fiddle', 'Saxophone', 'Squeak', 'Fireworks', 'Oboe', 'Oboe', 'Clarinet', 'Applause', 'Electric_piano', 'Computer_keyboard', 'Shatter', 'Flute', 'Cough', 'Chime', 'Writing', 'Bus', 'Knock', 'Gong', 'Shatter', 'Trumpet', 'Fart', 'Bass_drum', 'Keys_jangling', 'Bass_drum', 'Laughter', 'Trumpet', 'Double_bass', 'Saxophone', 'Fireworks', 'Burping_or_eructation', 'Double_bass', 'Shatter', 'Applause', 'Tearing', 'Oboe', 'Computer_keyboard', 'Oboe', 'Bark', 'Hi-hat', 'Hi-hat', 'Double_bass', 'Tearing', 'Gong', 'Bass_drum', 'Applause', 'Acoustic_guitar', 'Laughter', 'Cowbell', 'Tearing', 'Clarinet', 'Knock', 'Drawer_open_or_close', 'Violin_or_fiddle', 'Bass_drum', 'Acoustic_guitar', 'Knock', 'Gong', 'Trumpet', 'Oboe', 'Cowbell', 'Fart', 'Cough', 'Knock', 'Bass_drum', 'Applause', 'Tambourine', 'Gong', 'Hi-hat', 'Telephone', 'Tearing', 'Electric_piano', 'Clarinet', 'Keys_jangling', 'Oboe', 'Bark', 'Laughter', 'Tearing', 'Trumpet', 'Bass_drum', 'Laughter', 'Oboe', 'Flute', 'Shatter', 'Cowbell', 'Fireworks', 'Double_bass', 'Gunshot_or_gunfire', 'Cough', 'Double_bass', 'Bass_drum', 'Clarinet', 'Violin_or_fiddle', 'Fireworks', 'Bass_drum', 'Applause', 'Knock', 'Clarinet', 'Oboe', 'Squeak', 'Burping_or_eructation', 'Flute', 'Tearing', 'Clarinet', 'Acoustic_guitar', 'Applause', 'Meow', 'Electric_piano', 'Fireworks', 'Bark', 'Saxophone', 'Double_bass', 'Writing', 'Saxophone', 'Violin_or_fiddle', 'Writing', 'Laughter', 'Microwave_oven', 'Flute', 'Keys_jangling', 'Gong', 'Clarinet', 'Bark', 'Snare_drum', 'Saxophone', 'Flute', 'Oboe', 'Fireworks', 'Applause', 'Writing', 'Saxophone', 'Acoustic_guitar', 'Harmonica', 'Squeak', 'Laughter', 'Laughter', 'Acoustic_guitar', 'Knock', 'Oboe', 'Clarinet', 'Double_bass', 'Saxophone', 'Hi-hat', 'Fireworks', 'Fart', 'Saxophone', 'Drawer_open_or_close', 'Tearing', 'Squeak', 'Fireworks', 'Applause', 'Bark', 'Flute', 'Clarinet', 'Knock', 'Flute', 'Oboe', 'Oboe', 'Tambourine', 'Laughter', 'Writing', 'Shatter', 'Clarinet', 'Burping_or_eructation', 'Applause', 'Bass_drum', 'Oboe', 'Meow', 'Knock', 'Oboe', 'Bass_drum', 'Computer_keyboard', 'Finger_snapping', 'Applause', 'Tearing', 'Writing', 'Clarinet', 'Saxophone', 'Cello', 'Bass_drum', 'Tearing', 'Burping_or_eructation', 'Clarinet', 'Hi-hat', 'Hi-hat', 'Oboe', 'Saxophone', 'Bark', 'Bass_drum', 'Cowbell', 'Clarinet', 'Tearing', 'Bus', 'Cowbell', 'Cello', 'Cello', 'Tambourine', 'Drawer_open_or_close', 'Oboe', 'Electric_piano', 'Glockenspiel', 'Laughter', 'Fart', 'Drawer_open_or_close', 'Bass_drum', 'Microwave_oven', 'Oboe', 'Cello', 'Knock', 'Computer_keyboard', 'Gunshot_or_gunfire', 'Computer_keyboard', 'Bus', 'Harmonica', 'Fart', 'Laughter', 'Applause', 'Clarinet', 'Computer_keyboard', 'Laughter', 'Double_bass', 'Knock', 'Gunshot_or_gunfire', 'Shatter', 'Gong', 'Bass_drum', 'Electric_piano', 'Burping_or_eructation', 'Gong', 'Bark', 'Burping_or_eructation', 'Saxophone', 'Squeak', 'Writing', 'Drawer_open_or_close', 'Cough', 'Keys_jangling', 'Trumpet', 'Burping_or_eructation', 'Acoustic_guitar', 'Violin_or_fiddle', 'Laughter', 'Double_bass', 'Chime', 'Knock', 'Snare_drum', 'Saxophone', 'Clarinet', 'Oboe', 'Bass_drum', 'Bus', 'Keys_jangling', 'Gunshot_or_gunfire', 'Gong', 'Telephone', 'Tearing', 'Saxophone', 'Trumpet', 'Tearing', 'Shatter', 'Writing', 'Fireworks', 'Violin_or_fiddle', 'Squeak', 'Squeak', 'Shatter', 'Acoustic_guitar', 'Burping_or_eructation', 'Bark', 'Bass_drum', 'Double_bass', 'Clarinet', 'Knock', 'Fart', 'Gunshot_or_gunfire', 'Saxophone', 'Violin_or_fiddle', 'Gong', 'Violin_or_fiddle', 'Tearing', 'Drawer_open_or_close', 'Gong', 'Snare_drum', 'Keys_jangling', 'Cello', 'Bark', 'Tambourine', 'Knock', 'Electric_piano', 'Fart', 'Writing', 'Keys_jangling', 'Meow', 'Knock', 'Bus', 'Cough', 'Shatter', 'Computer_keyboard', 'Violin_or_fiddle', 'Flute', 'Snare_drum', 'Tambourine', 'Laughter', 'Electric_piano', 'Bark', 'Tearing', 'Cowbell', 'Meow', 'Saxophone', 'Bus', 'Flute', 'Bass_drum', 'Applause', 'Cough', 'Applause', 'Harmonica', 'Harmonica', 'Tearing', 'Squeak', 'Applause', 'Cowbell', 'Knock', 'Harmonica', 'Meow', 'Violin_or_fiddle', 'Acoustic_guitar', 'Cough', 'Writing', 'Cough', 'Fart', 'Oboe', 'Fart', 'Tearing', 'Double_bass', 'Electric_piano', 'Applause', 'Bass_drum', 'Writing', 'Meow', 'Harmonica', 'Bark', 'Violin_or_fiddle', 'Meow', 'Snare_drum', 'Applause', 'Clarinet', 'Writing', 'Saxophone', 'Tearing', 'Tambourine', 'Clarinet', 'Bass_drum', 'Electric_piano', 'Writing', 'Applause', 'Tearing', 'Fireworks', 'Squeak', 'Bass_drum', 'Bark', 'Flute', 'Clarinet', 'Fart', 'Bass_drum', 'Writing', 'Double_bass', 'Burping_or_eructation', 'Chime', 'Keys_jangling', 'Laughter', 'Snare_drum', 'Bus', 'Meow', 'Laughter', 'Gong', 'Acoustic_guitar', 'Fireworks', 'Computer_keyboard', 'Tearing', 'Acoustic_guitar', 'Hi-hat', 'Squeak', 'Shatter', 'Fart', 'Computer_keyboard', 'Finger_snapping', 'Squeak', 'Gunshot_or_gunfire', 'Snare_drum', 'Bark', 'Tearing', 'Oboe', 'Clarinet', 'Writing', 'Scissors', 'Tearing', 'Snare_drum', 'Bus', 'Applause', 'Burping_or_eructation', 'Keys_jangling', 'Bark', 'Knock', 'Clarinet', 'Telephone', 'Burping_or_eructation', 'Fart', 'Acoustic_guitar', 'Burping_or_eructation', 'Saxophone', 'Knock', 'Keys_jangling', 'Laughter', 'Bus', 'Saxophone', 'Hi-hat', 'Hi-hat', 'Acoustic_guitar', 'Bass_drum', 'Double_bass', 'Gong', 'Fireworks', 'Cowbell', 'Bus', 'Telephone', 'Applause', 'Bark', 'Finger_snapping', 'Oboe', 'Fireworks', 'Laughter', 'Acoustic_guitar', 'Shatter', 'Drawer_open_or_close', 'Violin_or_fiddle', 'Laughter', 'Clarinet', 'Hi-hat', 'Gong', 'Cello', 'Acoustic_guitar', 'Shatter', 'Hi-hat', 'Tearing', 'Tambourine', 'Bass_drum', 'Hi-hat', 'Telephone', 'Bus', 'Hi-hat', 'Gong', 'Violin_or_fiddle', 'Bark', 'Snare_drum', 'Double_bass', 'Cello', 'Flute', 'Snare_drum', 'Meow', 'Squeak', 'Snare_drum', 'Trumpet', 'Harmonica', 'Gong', 'Oboe', 'Bus', 'Cough', 'Violin_or_fiddle', 'Bark', 'Finger_snapping', 'Violin_or_fiddle', 'Clarinet', 'Burping_or_eructation', 'Saxophone', 'Cowbell', 'Telephone', 'Tearing', 'Oboe', 'Tearing', 'Clarinet', 'Telephone', 'Bass_drum', 'Scissors', 'Tearing', 'Knock', 'Clarinet', 'Saxophone', 'Laughter', 'Knock', 'Flute', 'Clarinet', 'Shatter', 'Knock', 'Burping_or_eructation', 'Violin_or_fiddle', 'Writing', 'Bark', 'Oboe', 'Knock', 'Bark', 'Fireworks', 'Violin_or_fiddle', 'Burping_or_eructation', 'Tearing', 'Bark', 'Harmonica', 'Tearing', 'Bark', 'Electric_piano', 'Violin_or_fiddle', 'Knock', 'Bass_drum', 'Acoustic_guitar', 'Snare_drum', 'Writing', 'Applause', 'Chime', 'Knock', 'Gong', 'Snare_drum', 'Tambourine', 'Microwave_oven', 'Scissors', 'Tambourine', 'Keys_jangling', 'Saxophone', 'Knock', 'Tearing', 'Writing', 'Flute', 'Double_bass', 'Gong', 'Applause', 'Meow', 'Telephone', 'Violin_or_fiddle', 'Microwave_oven', 'Violin_or_fiddle', 'Gong', 'Violin_or_fiddle', 'Hi-hat', 'Flute', 'Violin_or_fiddle', 'Snare_drum', 'Cowbell', 'Chime', 'Laughter', 'Trumpet', 'Tearing', 'Gong', 'Double_bass', 'Oboe', 'Writing', 'Trumpet', 'Writing', 'Bus', 'Violin_or_fiddle', 'Gong', 'Knock', 'Shatter', 'Flute', 'Hi-hat', 'Oboe', 'Telephone', 'Bark', 'Violin_or_fiddle', 'Cough', 'Applause', 'Finger_snapping', 'Cello', 'Applause', 'Harmonica', 'Saxophone', 'Gong', 'Shatter', 'Acoustic_guitar', 'Trumpet', 'Violin_or_fiddle', 'Knock', 'Clarinet', 'Squeak', 'Violin_or_fiddle', 'Gong', 'Shatter', 'Hi-hat', 'Violin_or_fiddle', 'Acoustic_guitar', 'Burping_or_eructation', 'Harmonica', 'Trumpet', 'Applause', 'Clarinet', 'Gong', 'Applause', 'Trumpet', 'Bus', 'Bass_drum', 'Flute', 'Snare_drum', 'Keys_jangling', 'Knock', 'Cough', 'Trumpet', 'Burping_or_eructation', 'Bass_drum', 'Cough', 'Laughter', 'Snare_drum', 'Bass_drum', 'Harmonica', 'Acoustic_guitar', 'Trumpet', 'Acoustic_guitar', 'Flute', 'Shatter', 'Drawer_open_or_close', 'Scissors', 'Violin_or_fiddle', 'Flute', 'Bark', 'Knock', 'Cello', 'Trumpet', 'Cough', 'Violin_or_fiddle', 'Double_bass', 'Acoustic_guitar', 'Double_bass', 'Clarinet', 'Oboe', 'Fireworks', 'Clarinet', 'Squeak', 'Double_bass', 'Snare_drum', 'Telephone', 'Hi-hat', 'Trumpet', 'Tambourine', 'Cowbell', 'Bass_drum', 'Acoustic_guitar', 'Computer_keyboard', 'Squeak', 'Clarinet', 'Gong', 'Laughter', 'Cello', 'Harmonica', 'Snare_drum', 'Saxophone', 'Bass_drum', 'Acoustic_guitar', 'Snare_drum', 'Squeak', 'Hi-hat', 'Double_bass', 'Bark', 'Tambourine', 'Laughter', 'Telephone', 'Saxophone', 'Clarinet', 'Knock', 'Clarinet', 'Cough', 'Keys_jangling', 'Writing', 'Bass_drum', 'Bus', 'Cough', 'Applause', 'Finger_snapping', 'Snare_drum', 'Snare_drum', 'Fart', 'Burping_or_eructation', 'Meow', 'Writing', 'Laughter', 'Hi-hat', 'Saxophone', 'Acoustic_guitar', 'Fireworks', 'Fireworks', 'Scissors', 'Knock', 'Fireworks', 'Computer_keyboard', 'Cough', 'Knock', 'Cough', 'Applause', 'Acoustic_guitar', 'Electric_piano', 'Electric_piano', 'Gunshot_or_gunfire', 'Hi-hat', 'Applause', 'Knock', 'Drawer_open_or_close', 'Gunshot_or_gunfire', 'Clarinet', 'Snare_drum', 'Bass_drum', 'Clarinet', 'Electric_piano', 'Computer_keyboard', 'Snare_drum', 'Acoustic_guitar', 'Fireworks', 'Laughter', 'Cough', 'Microwave_oven', 'Drawer_open_or_close', 'Cello', 'Applause', 'Double_bass', 'Cowbell', 'Meow', 'Fireworks', 'Saxophone', 'Shatter', 'Gong', 'Trumpet', 'Cough', 'Scissors', 'Applause', 'Oboe', 'Bus', 'Scissors', 'Trumpet', 'Fart', 'Tearing', 'Bass_drum', 'Trumpet', 'Computer_keyboard', 'Electric_piano', 'Bass_drum', 'Snare_drum', 'Squeak', 'Snare_drum', 'Acoustic_guitar', 'Flute', 'Saxophone', 'Saxophone', 'Keys_jangling', 'Gong', 'Clarinet', 'Cowbell', 'Violin_or_fiddle', 'Keys_jangling', 'Bus', 'Gunshot_or_gunfire', 'Double_bass', 'Shatter', 'Burping_or_eructation', 'Shatter', 'Applause', 'Computer_keyboard', 'Tearing', 'Double_bass', 'Burping_or_eructation', 'Fireworks', 'Oboe', 'Knock', 'Shatter', 'Electric_piano', 'Saxophone', 'Oboe', 'Writing', 'Knock', 'Cello', 'Tearing', 'Tambourine', 'Saxophone', 'Bass_drum', 'Writing', 'Trumpet', 'Laughter', 'Snare_drum', 'Double_bass', 'Squeak', 'Fireworks', 'Clarinet', 'Fart', 'Flute', 'Squeak', 'Trumpet', 'Writing', 'Acoustic_guitar', 'Burping_or_eructation', 'Cowbell', 'Fireworks', 'Gong', 'Gong', 'Bass_drum', 'Clarinet', 'Laughter', 'Tearing', 'Bark', 'Acoustic_guitar', 'Clarinet', 'Bark', 'Bark', 'Fireworks', 'Trumpet', 'Saxophone', 'Shatter', 'Scissors', 'Fart', 'Squeak', 'Fart', 'Glockenspiel', 'Fart', 'Gong', 'Cowbell', 'Cello', 'Cello', 'Oboe', 'Bass_drum', 'Bark', 'Laughter', 'Fart', 'Writing', 'Laughter', 'Oboe', 'Gong', 'Keys_jangling', 'Applause', 'Computer_keyboard', 'Scissors', 'Hi-hat', 'Hi-hat', 'Acoustic_guitar', 'Flute', 'Burping_or_eructation', 'Fart', 'Gong', 'Fart', 'Writing', 'Applause', 'Tambourine', 'Saxophone', 'Bark', 'Fireworks', 'Laughter', 'Snare_drum', 'Tearing', 'Gong', 'Hi-hat', 'Chime', 'Saxophone', 'Applause', 'Snare_drum', 'Squeak', 'Acoustic_guitar', 'Chime', 'Clarinet', 'Squeak', 'Harmonica', 'Burping_or_eructation', 'Saxophone', 'Applause', 'Knock', 'Laughter', 'Fart', 'Drawer_open_or_close', 'Tambourine', 'Cowbell', 'Gong', 'Saxophone', 'Drawer_open_or_close', 'Cello', 'Saxophone', 'Snare_drum', 'Trumpet', 'Hi-hat', 'Gong', 'Snare_drum', 'Snare_drum', 'Snare_drum', 'Tearing', 'Bark', 'Violin_or_fiddle', 'Burping_or_eructation', 'Gong', 'Tearing', 'Fireworks', 'Violin_or_fiddle', 'Bark', 'Double_bass', 'Saxophone', 'Electric_piano', 'Computer_keyboard', 'Shatter', 'Acoustic_guitar', 'Bus', 'Tambourine', 'Violin_or_fiddle', 'Clarinet', 'Fart', 'Clarinet', 'Shatter', 'Writing', 'Fireworks', 'Snare_drum', 'Shatter', 'Computer_keyboard', 'Telephone', 'Knock', 'Bark', 'Violin_or_fiddle', 'Fart', 'Flute', 'Clarinet', 'Fireworks', 'Drawer_open_or_close', 'Cowbell', 'Clarinet', 'Fireworks', 'Flute', 'Applause', 'Acoustic_guitar', 'Bass_drum', 'Computer_keyboard', 'Snare_drum', 'Tambourine', 'Glockenspiel', 'Knock', 'Laughter', 'Harmonica', 'Electric_piano', 'Saxophone', 'Clarinet', 'Shatter', 'Electric_piano', 'Cello', 'Cowbell', 'Meow', 'Hi-hat', 'Fireworks', 'Violin_or_fiddle', 'Squeak', 'Trumpet', 'Fireworks', 'Snare_drum', 'Electric_piano', 'Trumpet', 'Bass_drum', 'Cowbell', 'Fireworks', 'Double_bass', 'Fireworks', 'Fart', 'Finger_snapping', 'Writing', 'Writing', 'Double_bass', 'Squeak', 'Scissors', 'Microwave_oven', 'Hi-hat', 'Fireworks', 'Cowbell', 'Drawer_open_or_close', 'Clarinet', 'Tearing', 'Snare_drum', 'Chime', 'Flute', 'Snare_drum', 'Tearing', 'Laughter', 'Snare_drum', 'Trumpet', 'Writing', 'Violin_or_fiddle', 'Meow', 'Snare_drum', 'Tearing', 'Snare_drum', 'Microwave_oven', 'Hi-hat', 'Saxophone', 'Burping_or_eructation', 'Acoustic_guitar', 'Meow', 'Knock', 'Double_bass', 'Cello', 'Bark', 'Cough', 'Cello', 'Knock', 'Finger_snapping', 'Fireworks', 'Fireworks', 'Keys_jangling', 'Knock', 'Acoustic_guitar', 'Hi-hat', 'Cello', 'Snare_drum', 'Fart', 'Microwave_oven', 'Tearing', 'Tearing', 'Snare_drum', 'Acoustic_guitar', 'Knock', 'Laughter', 'Cello', 'Double_bass', 'Fart', 'Gong', 'Violin_or_fiddle', 'Applause', 'Telephone', 'Applause', 'Bus', 'Fart', 'Snare_drum', 'Glockenspiel', 'Finger_snapping', 'Glockenspiel', 'Laughter', 'Bass_drum', 'Electric_piano', 'Fart', 'Cello', 'Laughter', 'Double_bass', 'Tearing', 'Fart', 'Applause', 'Knock', 'Bass_drum', 'Gunshot_or_gunfire', 'Applause', 'Shatter', 'Gunshot_or_gunfire', 'Tearing', 'Tearing', 'Gong', 'Clarinet', 'Burping_or_eructation', 'Knock', 'Microwave_oven', 'Bass_drum', 'Gong', 'Bass_drum', 'Keys_jangling', 'Electric_piano', 'Double_bass', 'Trumpet', 'Fireworks', 'Double_bass', 'Double_bass', 'Fireworks', 'Fart', 'Fireworks', 'Gunshot_or_gunfire', 'Burping_or_eructation', 'Snare_drum', 'Burping_or_eructation', 'Bass_drum', 'Scissors', 'Bass_drum', 'Squeak', 'Writing', 'Cowbell', 'Shatter', 'Double_bass', 'Flute', 'Trumpet', 'Writing', 'Squeak', 'Burping_or_eructation', 'Meow', 'Applause', 'Double_bass', 'Shatter', 'Oboe', 'Glockenspiel', 'Laughter', 'Bass_drum', 'Writing', 'Electric_piano', 'Flute', 'Saxophone', 'Applause', 'Cough', 'Hi-hat', 'Violin_or_fiddle', 'Snare_drum', 'Applause', 'Knock', 'Acoustic_guitar', 'Tambourine', 'Squeak', 'Gong', 'Gong', 'Saxophone', 'Knock', 'Chime', 'Oboe', 'Cowbell', 'Snare_drum', 'Double_bass', 'Acoustic_guitar', 'Squeak', 'Snare_drum', 'Trumpet', 'Cough', 'Shatter', 'Bus', 'Violin_or_fiddle', 'Hi-hat', 'Saxophone', 'Shatter', 'Knock', 'Shatter', 'Saxophone', 'Hi-hat', 'Bass_drum', 'Oboe', 'Writing', 'Acoustic_guitar', 'Bark', 'Harmonica', 'Bark', 'Finger_snapping', 'Snare_drum', 'Tearing', 'Laughter', 'Burping_or_eructation', 'Hi-hat', 'Tambourine', 'Flute', 'Cowbell', 'Snare_drum', 'Harmonica', 'Laughter', 'Squeak', 'Finger_snapping', 'Harmonica', 'Bass_drum', 'Double_bass', 'Gong', 'Laughter', 'Burping_or_eructation', 'Glockenspiel', 'Gong', 'Fart', 'Meow', 'Glockenspiel', 'Fart', 'Bark', 'Squeak', 'Snare_drum', 'Writing', 'Cowbell', 'Saxophone', 'Gunshot_or_gunfire', 'Cough', 'Flute', 'Knock', 'Cello', 'Saxophone', 'Bus', 'Bass_drum', 'Bass_drum', 'Oboe', 'Oboe', 'Violin_or_fiddle', 'Squeak', 'Bus', 'Gong', 'Squeak', 'Glockenspiel', 'Electric_piano', 'Saxophone', 'Flute', 'Double_bass', 'Cough', 'Laughter', 'Trumpet', 'Gunshot_or_gunfire', 'Violin_or_fiddle', 'Oboe', 'Fireworks', 'Glockenspiel', 'Trumpet', 'Knock', 'Trumpet', 'Tambourine', 'Finger_snapping', 'Squeak', 'Hi-hat', 'Acoustic_guitar', 'Acoustic_guitar', 'Clarinet', 'Hi-hat', 'Electric_piano', 'Clarinet', 'Fart', 'Snare_drum', 'Cough', 'Flute', 'Trumpet', 'Bass_drum', 'Tearing', 'Computer_keyboard', 'Fireworks', 'Squeak', 'Squeak', 'Double_bass', 'Applause', 'Bark', 'Snare_drum', 'Fireworks', 'Double_bass', 'Saxophone', 'Clarinet', 'Acoustic_guitar', 'Trumpet', 'Fart', 'Violin_or_fiddle', 'Cowbell', 'Acoustic_guitar', 'Acoustic_guitar', 'Saxophone', 'Burping_or_eructation', 'Gunshot_or_gunfire', 'Tearing', 'Clarinet', 'Flute', 'Bus', 'Clarinet', 'Cello', 'Saxophone', 'Chime', 'Bark', 'Cough', 'Gong', 'Bass_drum', 'Laughter', 'Laughter', 'Saxophone', 'Saxophone', 'Clarinet', 'Fireworks', 'Shatter', 'Hi-hat', 'Bark', 'Fart', 'Applause', 'Drawer_open_or_close', 'Saxophone', 'Applause', 'Electric_piano', 'Gong', 'Gunshot_or_gunfire', 'Trumpet', 'Cough', 'Cough', 'Double_bass', 'Cough', 'Gunshot_or_gunfire', 'Drawer_open_or_close', 'Telephone', 'Gunshot_or_gunfire', 'Cough', 'Shatter', 'Laughter', 'Clarinet', 'Clarinet', 'Bark', 'Bark', 'Fireworks', 'Fireworks', 'Cowbell', 'Flute', 'Laughter', 'Bark', 'Keys_jangling', 'Double_bass', 'Burping_or_eructation', 'Electric_piano', 'Fart', 'Bass_drum', 'Tearing', 'Fireworks', 'Laughter', 'Saxophone', 'Tambourine', 'Burping_or_eructation', 'Fireworks', 'Snare_drum', 'Bass_drum', 'Tambourine', 'Oboe', 'Tearing', 'Scissors', 'Gong', 'Cough', 'Gong', 'Applause', 'Cello', 'Burping_or_eructation', 'Gong', 'Bark', 'Squeak', 'Telephone', 'Gunshot_or_gunfire', 'Cello', 'Oboe', 'Harmonica', 'Oboe', 'Fart', 'Saxophone', 'Laughter', 'Bus', 'Snare_drum', 'Trumpet', 'Hi-hat', 'Laughter', 'Writing', 'Shatter', 'Applause', 'Bus', 'Oboe', 'Gong', 'Clarinet', 'Drawer_open_or_close', 'Knock', 'Saxophone', 'Cough', 'Clarinet', 'Laughter', 'Bass_drum', 'Laughter', 'Electric_piano', 'Burping_or_eructation', 'Bark', 'Finger_snapping', 'Microwave_oven', 'Writing', 'Laughter', 'Tearing', 'Snare_drum', 'Saxophone', 'Flute', 'Fart', 'Acoustic_guitar', 'Cowbell', 'Snare_drum', 'Laughter', 'Laughter', 'Acoustic_guitar', 'Double_bass', 'Squeak', 'Squeak', 'Double_bass', 'Cowbell', 'Saxophone', 'Tearing', 'Double_bass', 'Fart', 'Oboe', 'Knock', 'Shatter', 'Fireworks', 'Finger_snapping', 'Fireworks', 'Drawer_open_or_close', 'Squeak', 'Harmonica', 'Writing', 'Shatter', 'Cough', 'Applause', 'Cough', 'Electric_piano', 'Acoustic_guitar', 'Fireworks', 'Saxophone', 'Electric_piano', 'Violin_or_fiddle', 'Harmonica', 'Fireworks', 'Writing', 'Snare_drum', 'Bass_drum', 'Trumpet', 'Oboe', 'Burping_or_eructation', 'Bark', 'Microwave_oven', 'Snare_drum', 'Gong', 'Snare_drum', 'Shatter', 'Saxophone', 'Harmonica', 'Burping_or_eructation', 'Telephone', 'Knock', 'Computer_keyboard', 'Laughter', 'Burping_or_eructation', 'Saxophone', 'Shatter', 'Burping_or_eructation', 'Double_bass', 'Cello', 'Telephone', 'Oboe', 'Snare_drum', 'Drawer_open_or_close', 'Bus', 'Laughter', 'Cowbell', 'Violin_or_fiddle', 'Glockenspiel', 'Tearing', 'Cowbell', 'Keys_jangling', 'Double_bass', 'Knock', 'Gong', 'Double_bass', 'Squeak', 'Tambourine', 'Laughter', 'Shatter', 'Finger_snapping', 'Fireworks', 'Double_bass', 'Acoustic_guitar', 'Cough', 'Applause', 'Burping_or_eructation', 'Flute', 'Knock', 'Hi-hat', 'Squeak', 'Trumpet', 'Scissors', 'Laughter', 'Laughter', 'Oboe', 'Acoustic_guitar', 'Burping_or_eructation', 'Squeak', 'Tearing', 'Bus', 'Fireworks', 'Meow', 'Bass_drum', 'Cowbell', 'Violin_or_fiddle', 'Laughter', 'Trumpet', 'Tearing', 'Burping_or_eructation', 'Cough', 'Tearing', 'Snare_drum', 'Hi-hat', 'Tearing', 'Fireworks', 'Snare_drum', 'Shatter', 'Saxophone', 'Hi-hat', 'Tambourine', 'Cello', 'Fireworks', 'Fart', 'Writing', 'Tambourine', 'Tearing', 'Burping_or_eructation', 'Squeak', 'Laughter', 'Squeak', 'Glockenspiel', 'Knock', 'Applause', 'Flute', 'Burping_or_eructation', 'Tearing', 'Computer_keyboard', 'Chime', 'Violin_or_fiddle', 'Fireworks', 'Knock', 'Snare_drum', 'Gunshot_or_gunfire', 'Burping_or_eructation', 'Violin_or_fiddle', 'Electric_piano', 'Burping_or_eructation', 'Writing', 'Squeak', 'Computer_keyboard', 'Cello', 'Acoustic_guitar', 'Electric_piano', 'Meow', 'Laughter', 'Saxophone', 'Shatter', 'Applause', 'Violin_or_fiddle', 'Chime', 'Glockenspiel', 'Snare_drum', 'Harmonica', 'Drawer_open_or_close', 'Telephone', 'Keys_jangling', 'Computer_keyboard', 'Knock', 'Trumpet', 'Flute', 'Fart', 'Bark', 'Hi-hat', 'Clarinet', 'Harmonica', 'Violin_or_fiddle', 'Clarinet', 'Applause', 'Saxophone', 'Gunshot_or_gunfire', 'Clarinet', 'Shatter', 'Saxophone', 'Double_bass', 'Burping_or_eructation', 'Computer_keyboard', 'Saxophone', 'Cowbell', 'Squeak', 'Fireworks', 'Keys_jangling', 'Glockenspiel', 'Meow', 'Cello', 'Gong', 'Squeak', 'Tearing', 'Squeak', 'Flute', 'Writing', 'Bark', 'Microwave_oven', 'Tearing', 'Gong', 'Saxophone', 'Bass_drum', 'Laughter', 'Squeak', 'Double_bass', 'Acoustic_guitar', 'Microwave_oven', 'Tearing', 'Gunshot_or_gunfire', 'Chime', 'Tearing', 'Tearing', 'Double_bass', 'Computer_keyboard', 'Knock', 'Acoustic_guitar', 'Violin_or_fiddle', 'Trumpet', 'Laughter', 'Cowbell', 'Violin_or_fiddle', 'Bass_drum', 'Cough', 'Saxophone', 'Bus', 'Knock', 'Meow', 'Squeak', 'Violin_or_fiddle', 'Fireworks', 'Cello', 'Hi-hat', 'Bass_drum', 'Tambourine', 'Computer_keyboard', 'Oboe', 'Flute', 'Clarinet', 'Flute', 'Drawer_open_or_close', 'Scissors', 'Electric_piano', 'Shatter', 'Gunshot_or_gunfire', 'Saxophone', 'Bark', 'Gunshot_or_gunfire', 'Applause', 'Drawer_open_or_close', 'Applause', 'Harmonica', 'Scissors', 'Bark', 'Knock', 'Cello', 'Chime', 'Cowbell', 'Double_bass', 'Squeak', 'Cough', 'Shatter', 'Meow', 'Snare_drum', 'Double_bass', 'Bass_drum', 'Tambourine', 'Drawer_open_or_close', 'Tambourine', 'Double_bass', 'Bark', 'Gong', 'Writing', 'Tambourine', 'Gong', 'Trumpet', 'Flute', 'Cello', 'Fart', 'Violin_or_fiddle', 'Double_bass', 'Meow', 'Fireworks', 'Squeak', 'Squeak', 'Knock', 'Double_bass', 'Double_bass', 'Fireworks', 'Hi-hat', 'Harmonica', 'Keys_jangling', 'Trumpet', 'Tambourine', 'Applause', 'Fireworks', 'Acoustic_guitar', 'Clarinet', 'Computer_keyboard', 'Bass_drum', 'Scissors', 'Hi-hat', 'Harmonica', 'Bark', 'Hi-hat', 'Trumpet', 'Electric_piano', 'Writing', 'Hi-hat', 'Laughter', 'Harmonica', 'Squeak', 'Tearing', 'Gong', 'Shatter', 'Hi-hat', 'Cello', 'Burping_or_eructation', 'Squeak', 'Writing', 'Oboe', 'Cowbell', 'Oboe', 'Telephone', 'Drawer_open_or_close', 'Keys_jangling', 'Keys_jangling', 'Writing', 'Scissors', 'Harmonica', 'Saxophone', 'Shatter', 'Applause', 'Acoustic_guitar', 'Telephone', 'Trumpet', 'Tambourine', 'Gunshot_or_gunfire', 'Saxophone', 'Cough', 'Gunshot_or_gunfire', 'Applause', 'Cough', 'Violin_or_fiddle', 'Double_bass', 'Squeak', 'Meow', 'Flute', 'Double_bass', 'Flute', 'Bass_drum', 'Drawer_open_or_close', 'Keys_jangling', 'Violin_or_fiddle', 'Burping_or_eructation', 'Tearing', 'Squeak', 'Violin_or_fiddle', 'Fart', 'Fireworks', 'Violin_or_fiddle', 'Chime', 'Gong', 'Writing', 'Computer_keyboard', 'Knock', 'Tearing', 'Tearing', 'Saxophone', 'Shatter', 'Oboe', 'Trumpet', 'Clarinet', 'Gong', 'Snare_drum', 'Gunshot_or_gunfire', 'Bass_drum', 'Trumpet', 'Applause', 'Burping_or_eructation', 'Bass_drum', 'Telephone', 'Fireworks', 'Fart', 'Shatter', 'Telephone', 'Keys_jangling', 'Bus', 'Squeak', 'Tearing', 'Burping_or_eructation', 'Glockenspiel', 'Finger_snapping', 'Tearing', 'Writing', 'Applause', 'Clarinet', 'Squeak', 'Shatter', 'Knock', 'Bark', 'Saxophone', 'Squeak', 'Cello', 'Clarinet', 'Computer_keyboard', 'Hi-hat', 'Tearing', 'Applause', 'Saxophone', 'Scissors', 'Bus', 'Trumpet', 'Burping_or_eructation', 'Harmonica', 'Knock', 'Cough', 'Tambourine', 'Squeak', 'Tearing', 'Clarinet', 'Tearing', 'Bark', 'Saxophone', 'Shatter', 'Hi-hat', 'Oboe', 'Harmonica', 'Oboe', 'Saxophone', 'Knock', 'Oboe', 'Fart', 'Flute', 'Violin_or_fiddle', 'Applause', 'Clarinet', 'Writing', 'Harmonica', 'Flute', 'Applause', 'Burping_or_eructation', 'Bark', 'Applause', 'Violin_or_fiddle', 'Clarinet', 'Violin_or_fiddle', 'Hi-hat', 'Fireworks', 'Hi-hat', 'Hi-hat', 'Tearing', 'Writing', 'Snare_drum', 'Saxophone', 'Violin_or_fiddle', 'Harmonica', 'Trumpet', 'Violin_or_fiddle', 'Tearing', 'Fireworks', 'Snare_drum', 'Cello', 'Tearing', 'Violin_or_fiddle', 'Drawer_open_or_close', 'Gong', 'Saxophone', 'Shatter', 'Cowbell', 'Burping_or_eructation', 'Microwave_oven', 'Saxophone', 'Clarinet', 'Fireworks', 'Oboe', 'Gong', 'Writing', 'Cello', 'Shatter', 'Bass_drum', 'Trumpet', 'Bus', 'Knock', 'Tambourine', 'Knock', 'Acoustic_guitar', 'Oboe', 'Saxophone', 'Fireworks', 'Knock', 'Harmonica', 'Fireworks', 'Squeak', 'Cough', 'Meow', 'Violin_or_fiddle', 'Flute', 'Meow', 'Fart', 'Acoustic_guitar', 'Squeak', 'Clarinet', 'Tearing', 'Finger_snapping', 'Double_bass', 'Bass_drum', 'Cough', 'Drawer_open_or_close', 'Applause', 'Computer_keyboard', 'Bass_drum', 'Gong', 'Glockenspiel', 'Cough', 'Bass_drum', 'Applause', 'Tearing', 'Squeak', 'Harmonica', 'Squeak', 'Trumpet', 'Tearing', 'Scissors', 'Tearing', 'Burping_or_eructation', 'Bus', 'Applause', 'Meow', 'Bark', 'Tearing', 'Trumpet', 'Trumpet', 'Keys_jangling', 'Keys_jangling', 'Bus', 'Acoustic_guitar', 'Laughter', 'Laughter', 'Squeak', 'Bass_drum', 'Tearing', 'Laughter', 'Oboe', 'Meow', 'Cello', 'Electric_piano', 'Cowbell', 'Violin_or_fiddle', 'Oboe', 'Saxophone', 'Burping_or_eructation', 'Cowbell', 'Saxophone', 'Gunshot_or_gunfire', 'Bass_drum', 'Flute', 'Violin_or_fiddle', 'Bark', 'Writing', 'Bass_drum', 'Burping_or_eructation', 'Gong', 'Scissors', 'Bass_drum', 'Flute', 'Knock', 'Bark', 'Cough', 'Tearing', 'Shatter', 'Acoustic_guitar', 'Applause', 'Knock', 'Bass_drum', 'Electric_piano', 'Fart', 'Double_bass', 'Oboe', 'Drawer_open_or_close', 'Laughter', 'Gong', 'Applause', 'Clarinet', 'Clarinet', 'Bass_drum', 'Tearing', 'Hi-hat', 'Squeak', 'Saxophone', 'Knock', 'Tearing', 'Bass_drum', 'Applause', 'Flute', 'Hi-hat', 'Writing', 'Oboe', 'Harmonica', 'Bass_drum', 'Hi-hat', 'Trumpet', 'Hi-hat', 'Chime', 'Saxophone', 'Tambourine', 'Oboe', 'Fart', 'Acoustic_guitar', 'Microwave_oven', 'Writing', 'Laughter', 'Telephone', 'Glockenspiel', 'Clarinet', 'Applause', 'Knock', 'Laughter', 'Bark', 'Writing', 'Bus', 'Knock', 'Drawer_open_or_close', 'Fireworks', 'Bass_drum', 'Telephone', 'Acoustic_guitar', 'Scissors', 'Saxophone', 'Telephone', 'Gong', 'Snare_drum', 'Burping_or_eructation', 'Oboe', 'Violin_or_fiddle', 'Flute', 'Fireworks', 'Meow', 'Applause', 'Laughter', 'Bass_drum', 'Violin_or_fiddle', 'Gong', 'Tearing', 'Knock', 'Gong', 'Keys_jangling', 'Trumpet', 'Fart', 'Violin_or_fiddle', 'Cowbell', 'Saxophone', 'Flute', 'Microwave_oven', 'Fart', 'Tearing', 'Bus', 'Keys_jangling', 'Applause', 'Cello', 'Saxophone', 'Shatter', 'Shatter', 'Gong', 'Glockenspiel', 'Snare_drum', 'Tearing', 'Bass_drum', 'Oboe', 'Cello', 'Electric_piano', 'Applause', 'Glockenspiel', 'Writing', 'Knock', 'Trumpet', 'Hi-hat', 'Double_bass', 'Hi-hat', 'Keys_jangling', 'Knock', 'Shatter', 'Gunshot_or_gunfire', 'Shatter', 'Meow', 'Fart', 'Tambourine', 'Glockenspiel', 'Telephone', 'Cello', 'Flute', 'Electric_piano', 'Trumpet', 'Burping_or_eructation', 'Shatter', 'Electric_piano', 'Knock', 'Meow', 'Computer_keyboard', 'Fireworks', 'Snare_drum', 'Bark', 'Oboe', 'Violin_or_fiddle', 'Knock', 'Snare_drum', 'Drawer_open_or_close', 'Drawer_open_or_close', 'Computer_keyboard', 'Laughter', 'Laughter', 'Squeak', 'Flute', 'Saxophone', 'Applause', 'Oboe', 'Laughter', 'Laughter', 'Trumpet', 'Bass_drum', 'Writing', 'Violin_or_fiddle', 'Bark', 'Violin_or_fiddle', 'Trumpet', 'Bass_drum', 'Saxophone', 'Shatter', 'Double_bass', 'Snare_drum', 'Burping_or_eructation', 'Chime', 'Hi-hat', 'Finger_snapping', 'Drawer_open_or_close', 'Fireworks', 'Cello', 'Double_bass', 'Violin_or_fiddle', 'Scissors', 'Clarinet', 'Hi-hat', 'Writing', 'Bus', 'Double_bass', 'Scissors', 'Laughter', 'Drawer_open_or_close', 'Oboe', 'Applause', 'Double_bass', 'Flute', 'Meow', 'Bass_drum', 'Clarinet', 'Bass_drum', 'Bark', 'Clarinet', 'Cough', 'Writing', 'Writing', 'Trumpet', 'Acoustic_guitar', 'Applause', 'Fireworks', 'Fireworks', 'Bus', 'Meow', 'Laughter', 'Trumpet', 'Hi-hat', 'Cowbell', 'Squeak', 'Fireworks', 'Clarinet', 'Fart', 'Fireworks', 'Violin_or_fiddle', 'Cough', 'Keys_jangling', 'Hi-hat', 'Chime', 'Computer_keyboard', 'Harmonica', 'Hi-hat', 'Laughter', 'Finger_snapping', 'Knock', 'Acoustic_guitar', 'Trumpet', 'Finger_snapping', 'Computer_keyboard', 'Oboe', 'Squeak', 'Fart', 'Knock', 'Saxophone', 'Harmonica', 'Snare_drum', 'Squeak', 'Glockenspiel', 'Applause', 'Saxophone', 'Clarinet', 'Acoustic_guitar', 'Meow', 'Laughter', 'Violin_or_fiddle', 'Fart', 'Flute', 'Oboe', 'Shatter', 'Knock', 'Violin_or_fiddle', 'Burping_or_eructation', 'Shatter', 'Flute', 'Oboe', 'Clarinet', 'Cowbell', 'Writing', 'Flute', 'Gong', 'Applause', 'Trumpet', 'Cello', 'Squeak', 'Laughter', 'Knock', 'Writing', 'Tearing', 'Tambourine', 'Tearing', 'Saxophone', 'Oboe', 'Meow', 'Knock', 'Meow', 'Writing', 'Drawer_open_or_close', 'Double_bass', 'Violin_or_fiddle', 'Oboe', 'Squeak', 'Applause', 'Acoustic_guitar', 'Double_bass', 'Cello', 'Cowbell', 'Writing', 'Bus', 'Bass_drum', 'Clarinet', 'Laughter', 'Hi-hat', 'Knock', 'Fart', 'Chime', 'Clarinet', 'Bass_drum', 'Fart', 'Bass_drum', 'Hi-hat', 'Oboe', 'Bass_drum', 'Oboe', 'Writing', 'Drawer_open_or_close', 'Harmonica', 'Fart', 'Double_bass', 'Electric_piano', 'Flute', 'Microwave_oven', 'Scissors', 'Burping_or_eructation', 'Microwave_oven', 'Applause', 'Finger_snapping', 'Fireworks', 'Drawer_open_or_close', 'Bass_drum', 'Flute', 'Cowbell', 'Fireworks', 'Acoustic_guitar', 'Knock', 'Oboe', 'Tambourine', 'Squeak', 'Fireworks', 'Tearing', 'Burping_or_eructation', 'Gong', 'Trumpet', 'Clarinet', 'Burping_or_eructation', 'Clarinet', 'Trumpet', 'Bus', 'Fart', 'Electric_piano', 'Knock', 'Fireworks', 'Shatter', 'Flute', 'Saxophone', 'Cough', 'Squeak', 'Oboe', 'Violin_or_fiddle', 'Cough', 'Bus', 'Tambourine', 'Flute', 'Cowbell', 'Applause', 'Squeak', 'Clarinet', 'Writing', 'Violin_or_fiddle', 'Fireworks', 'Fireworks', 'Hi-hat', 'Clarinet', 'Telephone', 'Hi-hat', 'Flute', 'Oboe', 'Knock', 'Electric_piano', 'Tambourine', 'Clarinet', 'Flute', 'Cowbell', 'Squeak', 'Writing', 'Saxophone', 'Electric_piano', 'Writing', 'Finger_snapping', 'Acoustic_guitar', 'Double_bass', 'Hi-hat', 'Tambourine', 'Meow', 'Keys_jangling', 'Acoustic_guitar', 'Acoustic_guitar', 'Meow', 'Hi-hat', 'Microwave_oven', 'Knock', 'Shatter', 'Glockenspiel', 'Knock', 'Cough', 'Laughter', 'Harmonica', 'Clarinet', 'Saxophone', 'Cello', 'Bark', 'Snare_drum', 'Double_bass', 'Bass_drum', 'Bass_drum', 'Finger_snapping', 'Writing', 'Oboe', 'Saxophone', 'Clarinet', 'Writing', 'Oboe', 'Squeak', 'Writing', 'Snare_drum', 'Writing', 'Drawer_open_or_close', 'Burping_or_eructation', 'Double_bass', 'Cough', 'Burping_or_eructation', 'Saxophone', 'Violin_or_fiddle', 'Bus', 'Scissors', 'Snare_drum', 'Snare_drum', 'Clarinet', 'Double_bass', 'Tearing', 'Double_bass', 'Clarinet', 'Laughter', 'Chime', 'Computer_keyboard', 'Electric_piano', 'Tearing', 'Clarinet', 'Hi-hat', 'Clarinet', 'Harmonica', 'Double_bass', 'Squeak', 'Bark', 'Fireworks', 'Flute', 'Glockenspiel', 'Violin_or_fiddle', 'Meow', 'Saxophone', 'Knock', 'Applause', 'Cough', 'Oboe', 'Snare_drum', 'Snare_drum', 'Acoustic_guitar', 'Fart', 'Snare_drum', 'Cello', 'Shatter', 'Electric_piano', 'Chime', 'Laughter', 'Gong', 'Cello', 'Squeak', 'Oboe', 'Oboe', 'Gong', 'Gong', 'Acoustic_guitar', 'Hi-hat', 'Burping_or_eructation', 'Tearing', 'Shatter', 'Knock', 'Harmonica', 'Hi-hat', 'Fart', 'Violin_or_fiddle', 'Squeak', 'Clarinet', 'Fireworks', 'Tambourine', 'Trumpet', 'Cello', 'Double_bass', 'Shatter', 'Shatter', 'Oboe', 'Bark', 'Meow', 'Harmonica', 'Acoustic_guitar', 'Hi-hat', 'Oboe', 'Writing', 'Squeak', 'Squeak', 'Hi-hat', 'Laughter', 'Cello', 'Flute', 'Clarinet', 'Shatter', 'Writing', 'Knock', 'Hi-hat', 'Electric_piano', 'Saxophone', 'Fart', 'Flute', 'Gunshot_or_gunfire', 'Finger_snapping', 'Knock', 'Gunshot_or_gunfire', 'Squeak', 'Chime', 'Snare_drum', 'Bark', 'Finger_snapping', 'Writing', 'Laughter', 'Fart', 'Snare_drum', 'Saxophone', 'Burping_or_eructation', 'Drawer_open_or_close', 'Squeak', 'Shatter', 'Flute', 'Drawer_open_or_close', 'Bass_drum', 'Laughter', 'Cough', 'Microwave_oven', 'Snare_drum', 'Cough', 'Flute', 'Oboe', 'Double_bass', 'Writing', 'Bass_drum', 'Tearing', 'Glockenspiel', 'Violin_or_fiddle', 'Flute', 'Tambourine', 'Gunshot_or_gunfire', 'Gong', 'Laughter', 'Chime', 'Shatter', 'Laughter', 'Laughter', 'Laughter', 'Gong', 'Fireworks', 'Flute', 'Violin_or_fiddle', 'Fireworks', 'Gong', 'Shatter', 'Acoustic_guitar', 'Violin_or_fiddle', 'Tearing', 'Tearing', 'Flute', 'Double_bass', 'Electric_piano', 'Electric_piano', 'Glockenspiel', 'Drawer_open_or_close', 'Saxophone', 'Bass_drum', 'Drawer_open_or_close', 'Clarinet', 'Violin_or_fiddle', 'Gong', 'Flute', 'Tearing', 'Gunshot_or_gunfire', 'Fart', 'Snare_drum', 'Fart', 'Acoustic_guitar', 'Burping_or_eructation', 'Telephone', 'Bark', 'Fireworks', 'Hi-hat', 'Snare_drum', 'Applause', 'Trumpet', 'Fireworks', 'Trumpet', 'Oboe', 'Bark', 'Bass_drum', 'Double_bass', 'Microwave_oven', 'Acoustic_guitar', 'Bark', 'Trumpet', 'Snare_drum', 'Burping_or_eructation', 'Bass_drum', 'Shatter', 'Double_bass', 'Flute', 'Applause', 'Telephone', 'Cowbell', 'Applause', 'Fireworks', 'Shatter', 'Gong', 'Knock', 'Keys_jangling', 'Snare_drum', 'Laughter', 'Clarinet', 'Finger_snapping', 'Gunshot_or_gunfire', 'Clarinet', 'Snare_drum', 'Laughter', 'Cowbell', 'Cowbell', 'Meow', 'Applause', 'Snare_drum', 'Bark', 'Cello', 'Hi-hat', 'Cough', 'Microwave_oven', 'Snare_drum', 'Fireworks', 'Clarinet', 'Glockenspiel', 'Squeak', 'Flute', 'Violin_or_fiddle', 'Tearing', 'Knock', 'Clarinet', 'Shatter', 'Chime', 'Applause', 'Clarinet', 'Bass_drum', 'Squeak', 'Flute', 'Flute', 'Gunshot_or_gunfire', 'Shatter', 'Tearing', 'Oboe', 'Electric_piano', 'Tearing', 'Shatter', 'Tearing', 'Oboe', 'Gong', 'Laughter', 'Gong', 'Meow', 'Fireworks', 'Electric_piano', 'Squeak', 'Snare_drum', 'Cough', 'Knock', 'Bass_drum', 'Writing', 'Fireworks', 'Cello', 'Fart', 'Knock', 'Applause', 'Meow', 'Acoustic_guitar', 'Bark', 'Tearing', 'Hi-hat', 'Violin_or_fiddle', 'Burping_or_eructation', 'Fireworks', 'Applause', 'Shatter', 'Electric_piano']\n"
     ]
    }
   ],
   "source": [
    "labled_outs = [id_to_label[i] for i in output_formated_infer]\n",
    "print(labled_outs)"
   ]
  },
  {
   "cell_type": "code",
   "execution_count": 23,
   "metadata": {
    "id": "gv8Wj0Agla6P"
   },
   "outputs": [],
   "source": [
    "fnames = []\n",
    "for datum in test_data:\n",
    "  fnames.append(datum['fname'])"
   ]
  },
  {
   "cell_type": "code",
   "execution_count": 24,
   "metadata": {
    "id": "KNudBPpPenIF"
   },
   "outputs": [],
   "source": [
    "pd.DataFrame({'fname': fnames, 'label': labled_outs}).to_csv('predict_2.csv', index=False)"
   ]
  },
  {
   "cell_type": "code",
   "execution_count": 25,
   "metadata": {
    "colab": {
     "base_uri": "https://localhost:8080/"
    },
    "id": "VajERU5ket4q",
    "outputId": "824c65c7-6fa0-4ce0-d672-e30fe0fdb801"
   },
   "outputs": [
    {
     "data": {
      "text/plain": [
       "3790"
      ]
     },
     "execution_count": 25,
     "metadata": {},
     "output_type": "execute_result"
    }
   ],
   "source": [
    "len(labled_outs)"
   ]
  }
 ],
 "metadata": {
  "accelerator": "GPU",
  "colab": {
   "provenance": []
  },
  "gpuClass": "standard",
  "kernelspec": {
   "display_name": "Python 3",
   "language": "python",
   "name": "python3"
  },
  "language_info": {
   "codemirror_mode": {
    "name": "ipython",
    "version": 3
   },
   "file_extension": ".py",
   "mimetype": "text/x-python",
   "name": "python",
   "nbconvert_exporter": "python",
   "pygments_lexer": "ipython3",
   "version": "3.8.10"
  },
  "widgets": {
   "application/vnd.jupyter.widget-state+json": {
    "0464574a102b46ae987a0351ec5627c2": {
     "model_module": "@jupyter-widgets/controls",
     "model_module_version": "1.5.0",
     "model_name": "HTMLModel",
     "state": {
      "_dom_classes": [],
      "_model_module": "@jupyter-widgets/controls",
      "_model_module_version": "1.5.0",
      "_model_name": "HTMLModel",
      "_view_count": null,
      "_view_module": "@jupyter-widgets/controls",
      "_view_module_version": "1.5.0",
      "_view_name": "HTMLView",
      "description": "",
      "description_tooltip": null,
      "layout": "IPY_MODEL_08d7bf2865a1463f8541d957243ab19e",
      "placeholder": "​",
      "style": "IPY_MODEL_ec7c2cf30a5a4535af4325aa8270a184",
      "value": "Downloading pytorch_model.bin: 100%"
     }
    },
    "08d7bf2865a1463f8541d957243ab19e": {
     "model_module": "@jupyter-widgets/base",
     "model_module_version": "1.2.0",
     "model_name": "LayoutModel",
     "state": {
      "_model_module": "@jupyter-widgets/base",
      "_model_module_version": "1.2.0",
      "_model_name": "LayoutModel",
      "_view_count": null,
      "_view_module": "@jupyter-widgets/base",
      "_view_module_version": "1.2.0",
      "_view_name": "LayoutView",
      "align_content": null,
      "align_items": null,
      "align_self": null,
      "border": null,
      "bottom": null,
      "display": null,
      "flex": null,
      "flex_flow": null,
      "grid_area": null,
      "grid_auto_columns": null,
      "grid_auto_flow": null,
      "grid_auto_rows": null,
      "grid_column": null,
      "grid_gap": null,
      "grid_row": null,
      "grid_template_areas": null,
      "grid_template_columns": null,
      "grid_template_rows": null,
      "height": null,
      "justify_content": null,
      "justify_items": null,
      "left": null,
      "margin": null,
      "max_height": null,
      "max_width": null,
      "min_height": null,
      "min_width": null,
      "object_fit": null,
      "object_position": null,
      "order": null,
      "overflow": null,
      "overflow_x": null,
      "overflow_y": null,
      "padding": null,
      "right": null,
      "top": null,
      "visibility": null,
      "width": null
     }
    },
    "0f7ad9b5e5714b79808af26683eed5bf": {
     "model_module": "@jupyter-widgets/controls",
     "model_module_version": "1.5.0",
     "model_name": "ProgressStyleModel",
     "state": {
      "_model_module": "@jupyter-widgets/controls",
      "_model_module_version": "1.5.0",
      "_model_name": "ProgressStyleModel",
      "_view_count": null,
      "_view_module": "@jupyter-widgets/base",
      "_view_module_version": "1.2.0",
      "_view_name": "StyleView",
      "bar_color": null,
      "description_width": ""
     }
    },
    "3e80fbe072e84e05991b83a78340ea49": {
     "model_module": "@jupyter-widgets/controls",
     "model_module_version": "1.5.0",
     "model_name": "FloatProgressModel",
     "state": {
      "_dom_classes": [],
      "_model_module": "@jupyter-widgets/controls",
      "_model_module_version": "1.5.0",
      "_model_name": "FloatProgressModel",
      "_view_count": null,
      "_view_module": "@jupyter-widgets/controls",
      "_view_module_version": "1.5.0",
      "_view_name": "ProgressView",
      "bar_style": "success",
      "description": "",
      "description_tooltip": null,
      "layout": "IPY_MODEL_b237d85c7ecb49ea8f82dae598beca8e",
      "max": 26763,
      "min": 0,
      "orientation": "horizontal",
      "style": "IPY_MODEL_576d833d2461464087b8cb2035b8fb73",
      "value": 26763
     }
    },
    "53b2e8c06ddf416d9efeeb9f24deb4f0": {
     "model_module": "@jupyter-widgets/base",
     "model_module_version": "1.2.0",
     "model_name": "LayoutModel",
     "state": {
      "_model_module": "@jupyter-widgets/base",
      "_model_module_version": "1.2.0",
      "_model_name": "LayoutModel",
      "_view_count": null,
      "_view_module": "@jupyter-widgets/base",
      "_view_module_version": "1.2.0",
      "_view_name": "LayoutView",
      "align_content": null,
      "align_items": null,
      "align_self": null,
      "border": null,
      "bottom": null,
      "display": null,
      "flex": null,
      "flex_flow": null,
      "grid_area": null,
      "grid_auto_columns": null,
      "grid_auto_flow": null,
      "grid_auto_rows": null,
      "grid_column": null,
      "grid_gap": null,
      "grid_row": null,
      "grid_template_areas": null,
      "grid_template_columns": null,
      "grid_template_rows": null,
      "height": null,
      "justify_content": null,
      "justify_items": null,
      "left": null,
      "margin": null,
      "max_height": null,
      "max_width": null,
      "min_height": null,
      "min_width": null,
      "object_fit": null,
      "object_position": null,
      "order": null,
      "overflow": null,
      "overflow_x": null,
      "overflow_y": null,
      "padding": null,
      "right": null,
      "top": null,
      "visibility": null,
      "width": null
     }
    },
    "576d833d2461464087b8cb2035b8fb73": {
     "model_module": "@jupyter-widgets/controls",
     "model_module_version": "1.5.0",
     "model_name": "ProgressStyleModel",
     "state": {
      "_model_module": "@jupyter-widgets/controls",
      "_model_module_version": "1.5.0",
      "_model_name": "ProgressStyleModel",
      "_view_count": null,
      "_view_module": "@jupyter-widgets/base",
      "_view_module_version": "1.2.0",
      "_view_name": "StyleView",
      "bar_color": null,
      "description_width": ""
     }
    },
    "5a882d44858949f6bf792e65a1c9a26c": {
     "model_module": "@jupyter-widgets/controls",
     "model_module_version": "1.5.0",
     "model_name": "FloatProgressModel",
     "state": {
      "_dom_classes": [],
      "_model_module": "@jupyter-widgets/controls",
      "_model_module_version": "1.5.0",
      "_model_name": "FloatProgressModel",
      "_view_count": null,
      "_view_module": "@jupyter-widgets/controls",
      "_view_module_version": "1.5.0",
      "_view_name": "ProgressView",
      "bar_style": "success",
      "description": "",
      "description_tooltip": null,
      "layout": "IPY_MODEL_7c45e783b8e046b28f2d0afb20d06744",
      "max": 346445675,
      "min": 0,
      "orientation": "horizontal",
      "style": "IPY_MODEL_0f7ad9b5e5714b79808af26683eed5bf",
      "value": 346445675
     }
    },
    "62a828ff73a54574a71df15bc63079d4": {
     "model_module": "@jupyter-widgets/controls",
     "model_module_version": "1.5.0",
     "model_name": "HTMLModel",
     "state": {
      "_dom_classes": [],
      "_model_module": "@jupyter-widgets/controls",
      "_model_module_version": "1.5.0",
      "_model_name": "HTMLModel",
      "_view_count": null,
      "_view_module": "@jupyter-widgets/controls",
      "_view_module_version": "1.5.0",
      "_view_name": "HTMLView",
      "description": "",
      "description_tooltip": null,
      "layout": "IPY_MODEL_e9e4fcca326b465f8c5b357741b61086",
      "placeholder": "​",
      "style": "IPY_MODEL_cd8582d74c4b43d9b77a37a0b1f37ab7",
      "value": "Downloading (…)lve/main/config.json: 100%"
     }
    },
    "6dc8e924c0754cd0a70bfd5abff53630": {
     "model_module": "@jupyter-widgets/controls",
     "model_module_version": "1.5.0",
     "model_name": "DescriptionStyleModel",
     "state": {
      "_model_module": "@jupyter-widgets/controls",
      "_model_module_version": "1.5.0",
      "_model_name": "DescriptionStyleModel",
      "_view_count": null,
      "_view_module": "@jupyter-widgets/base",
      "_view_module_version": "1.2.0",
      "_view_name": "StyleView",
      "description_width": ""
     }
    },
    "720493f907014139ae02d9a4867488ad": {
     "model_module": "@jupyter-widgets/controls",
     "model_module_version": "1.5.0",
     "model_name": "HBoxModel",
     "state": {
      "_dom_classes": [],
      "_model_module": "@jupyter-widgets/controls",
      "_model_module_version": "1.5.0",
      "_model_name": "HBoxModel",
      "_view_count": null,
      "_view_module": "@jupyter-widgets/controls",
      "_view_module_version": "1.5.0",
      "_view_name": "HBoxView",
      "box_style": "",
      "children": [
       "IPY_MODEL_62a828ff73a54574a71df15bc63079d4",
       "IPY_MODEL_3e80fbe072e84e05991b83a78340ea49",
       "IPY_MODEL_9f08931f4b5945dbac2fffd26672567a"
      ],
      "layout": "IPY_MODEL_9900c40e644e4b1f9aa2fbf575255b0b"
     }
    },
    "7c45e783b8e046b28f2d0afb20d06744": {
     "model_module": "@jupyter-widgets/base",
     "model_module_version": "1.2.0",
     "model_name": "LayoutModel",
     "state": {
      "_model_module": "@jupyter-widgets/base",
      "_model_module_version": "1.2.0",
      "_model_name": "LayoutModel",
      "_view_count": null,
      "_view_module": "@jupyter-widgets/base",
      "_view_module_version": "1.2.0",
      "_view_name": "LayoutView",
      "align_content": null,
      "align_items": null,
      "align_self": null,
      "border": null,
      "bottom": null,
      "display": null,
      "flex": null,
      "flex_flow": null,
      "grid_area": null,
      "grid_auto_columns": null,
      "grid_auto_flow": null,
      "grid_auto_rows": null,
      "grid_column": null,
      "grid_gap": null,
      "grid_row": null,
      "grid_template_areas": null,
      "grid_template_columns": null,
      "grid_template_rows": null,
      "height": null,
      "justify_content": null,
      "justify_items": null,
      "left": null,
      "margin": null,
      "max_height": null,
      "max_width": null,
      "min_height": null,
      "min_width": null,
      "object_fit": null,
      "object_position": null,
      "order": null,
      "overflow": null,
      "overflow_x": null,
      "overflow_y": null,
      "padding": null,
      "right": null,
      "top": null,
      "visibility": null,
      "width": null
     }
    },
    "7de99ff658ff4b70b71e1d926e197c2f": {
     "model_module": "@jupyter-widgets/base",
     "model_module_version": "1.2.0",
     "model_name": "LayoutModel",
     "state": {
      "_model_module": "@jupyter-widgets/base",
      "_model_module_version": "1.2.0",
      "_model_name": "LayoutModel",
      "_view_count": null,
      "_view_module": "@jupyter-widgets/base",
      "_view_module_version": "1.2.0",
      "_view_name": "LayoutView",
      "align_content": null,
      "align_items": null,
      "align_self": null,
      "border": null,
      "bottom": null,
      "display": null,
      "flex": null,
      "flex_flow": null,
      "grid_area": null,
      "grid_auto_columns": null,
      "grid_auto_flow": null,
      "grid_auto_rows": null,
      "grid_column": null,
      "grid_gap": null,
      "grid_row": null,
      "grid_template_areas": null,
      "grid_template_columns": null,
      "grid_template_rows": null,
      "height": null,
      "justify_content": null,
      "justify_items": null,
      "left": null,
      "margin": null,
      "max_height": null,
      "max_width": null,
      "min_height": null,
      "min_width": null,
      "object_fit": null,
      "object_position": null,
      "order": null,
      "overflow": null,
      "overflow_x": null,
      "overflow_y": null,
      "padding": null,
      "right": null,
      "top": null,
      "visibility": null,
      "width": null
     }
    },
    "8cdb1dfc15eb4f15a5b891c60270044d": {
     "model_module": "@jupyter-widgets/base",
     "model_module_version": "1.2.0",
     "model_name": "LayoutModel",
     "state": {
      "_model_module": "@jupyter-widgets/base",
      "_model_module_version": "1.2.0",
      "_model_name": "LayoutModel",
      "_view_count": null,
      "_view_module": "@jupyter-widgets/base",
      "_view_module_version": "1.2.0",
      "_view_name": "LayoutView",
      "align_content": null,
      "align_items": null,
      "align_self": null,
      "border": null,
      "bottom": null,
      "display": null,
      "flex": null,
      "flex_flow": null,
      "grid_area": null,
      "grid_auto_columns": null,
      "grid_auto_flow": null,
      "grid_auto_rows": null,
      "grid_column": null,
      "grid_gap": null,
      "grid_row": null,
      "grid_template_areas": null,
      "grid_template_columns": null,
      "grid_template_rows": null,
      "height": null,
      "justify_content": null,
      "justify_items": null,
      "left": null,
      "margin": null,
      "max_height": null,
      "max_width": null,
      "min_height": null,
      "min_width": null,
      "object_fit": null,
      "object_position": null,
      "order": null,
      "overflow": null,
      "overflow_x": null,
      "overflow_y": null,
      "padding": null,
      "right": null,
      "top": null,
      "visibility": null,
      "width": null
     }
    },
    "924adba37e6c41a9a6918b23b17ca01a": {
     "model_module": "@jupyter-widgets/controls",
     "model_module_version": "1.5.0",
     "model_name": "DescriptionStyleModel",
     "state": {
      "_model_module": "@jupyter-widgets/controls",
      "_model_module_version": "1.5.0",
      "_model_name": "DescriptionStyleModel",
      "_view_count": null,
      "_view_module": "@jupyter-widgets/base",
      "_view_module_version": "1.2.0",
      "_view_name": "StyleView",
      "description_width": ""
     }
    },
    "9900c40e644e4b1f9aa2fbf575255b0b": {
     "model_module": "@jupyter-widgets/base",
     "model_module_version": "1.2.0",
     "model_name": "LayoutModel",
     "state": {
      "_model_module": "@jupyter-widgets/base",
      "_model_module_version": "1.2.0",
      "_model_name": "LayoutModel",
      "_view_count": null,
      "_view_module": "@jupyter-widgets/base",
      "_view_module_version": "1.2.0",
      "_view_name": "LayoutView",
      "align_content": null,
      "align_items": null,
      "align_self": null,
      "border": null,
      "bottom": null,
      "display": null,
      "flex": null,
      "flex_flow": null,
      "grid_area": null,
      "grid_auto_columns": null,
      "grid_auto_flow": null,
      "grid_auto_rows": null,
      "grid_column": null,
      "grid_gap": null,
      "grid_row": null,
      "grid_template_areas": null,
      "grid_template_columns": null,
      "grid_template_rows": null,
      "height": null,
      "justify_content": null,
      "justify_items": null,
      "left": null,
      "margin": null,
      "max_height": null,
      "max_width": null,
      "min_height": null,
      "min_width": null,
      "object_fit": null,
      "object_position": null,
      "order": null,
      "overflow": null,
      "overflow_x": null,
      "overflow_y": null,
      "padding": null,
      "right": null,
      "top": null,
      "visibility": null,
      "width": null
     }
    },
    "9f08931f4b5945dbac2fffd26672567a": {
     "model_module": "@jupyter-widgets/controls",
     "model_module_version": "1.5.0",
     "model_name": "HTMLModel",
     "state": {
      "_dom_classes": [],
      "_model_module": "@jupyter-widgets/controls",
      "_model_module_version": "1.5.0",
      "_model_name": "HTMLModel",
      "_view_count": null,
      "_view_module": "@jupyter-widgets/controls",
      "_view_module_version": "1.5.0",
      "_view_name": "HTMLView",
      "description": "",
      "description_tooltip": null,
      "layout": "IPY_MODEL_7de99ff658ff4b70b71e1d926e197c2f",
      "placeholder": "​",
      "style": "IPY_MODEL_924adba37e6c41a9a6918b23b17ca01a",
      "value": " 26.8k/26.8k [00:00&lt;00:00, 1.23MB/s]"
     }
    },
    "b15b7306794a4899b1d886e98203265a": {
     "model_module": "@jupyter-widgets/controls",
     "model_module_version": "1.5.0",
     "model_name": "HBoxModel",
     "state": {
      "_dom_classes": [],
      "_model_module": "@jupyter-widgets/controls",
      "_model_module_version": "1.5.0",
      "_model_name": "HBoxModel",
      "_view_count": null,
      "_view_module": "@jupyter-widgets/controls",
      "_view_module_version": "1.5.0",
      "_view_name": "HBoxView",
      "box_style": "",
      "children": [
       "IPY_MODEL_0464574a102b46ae987a0351ec5627c2",
       "IPY_MODEL_5a882d44858949f6bf792e65a1c9a26c",
       "IPY_MODEL_ef9d8f5543924688b0699c2012ff170f"
      ],
      "layout": "IPY_MODEL_53b2e8c06ddf416d9efeeb9f24deb4f0"
     }
    },
    "b237d85c7ecb49ea8f82dae598beca8e": {
     "model_module": "@jupyter-widgets/base",
     "model_module_version": "1.2.0",
     "model_name": "LayoutModel",
     "state": {
      "_model_module": "@jupyter-widgets/base",
      "_model_module_version": "1.2.0",
      "_model_name": "LayoutModel",
      "_view_count": null,
      "_view_module": "@jupyter-widgets/base",
      "_view_module_version": "1.2.0",
      "_view_name": "LayoutView",
      "align_content": null,
      "align_items": null,
      "align_self": null,
      "border": null,
      "bottom": null,
      "display": null,
      "flex": null,
      "flex_flow": null,
      "grid_area": null,
      "grid_auto_columns": null,
      "grid_auto_flow": null,
      "grid_auto_rows": null,
      "grid_column": null,
      "grid_gap": null,
      "grid_row": null,
      "grid_template_areas": null,
      "grid_template_columns": null,
      "grid_template_rows": null,
      "height": null,
      "justify_content": null,
      "justify_items": null,
      "left": null,
      "margin": null,
      "max_height": null,
      "max_width": null,
      "min_height": null,
      "min_width": null,
      "object_fit": null,
      "object_position": null,
      "order": null,
      "overflow": null,
      "overflow_x": null,
      "overflow_y": null,
      "padding": null,
      "right": null,
      "top": null,
      "visibility": null,
      "width": null
     }
    },
    "cd8582d74c4b43d9b77a37a0b1f37ab7": {
     "model_module": "@jupyter-widgets/controls",
     "model_module_version": "1.5.0",
     "model_name": "DescriptionStyleModel",
     "state": {
      "_model_module": "@jupyter-widgets/controls",
      "_model_module_version": "1.5.0",
      "_model_name": "DescriptionStyleModel",
      "_view_count": null,
      "_view_module": "@jupyter-widgets/base",
      "_view_module_version": "1.2.0",
      "_view_name": "StyleView",
      "description_width": ""
     }
    },
    "e9e4fcca326b465f8c5b357741b61086": {
     "model_module": "@jupyter-widgets/base",
     "model_module_version": "1.2.0",
     "model_name": "LayoutModel",
     "state": {
      "_model_module": "@jupyter-widgets/base",
      "_model_module_version": "1.2.0",
      "_model_name": "LayoutModel",
      "_view_count": null,
      "_view_module": "@jupyter-widgets/base",
      "_view_module_version": "1.2.0",
      "_view_name": "LayoutView",
      "align_content": null,
      "align_items": null,
      "align_self": null,
      "border": null,
      "bottom": null,
      "display": null,
      "flex": null,
      "flex_flow": null,
      "grid_area": null,
      "grid_auto_columns": null,
      "grid_auto_flow": null,
      "grid_auto_rows": null,
      "grid_column": null,
      "grid_gap": null,
      "grid_row": null,
      "grid_template_areas": null,
      "grid_template_columns": null,
      "grid_template_rows": null,
      "height": null,
      "justify_content": null,
      "justify_items": null,
      "left": null,
      "margin": null,
      "max_height": null,
      "max_width": null,
      "min_height": null,
      "min_width": null,
      "object_fit": null,
      "object_position": null,
      "order": null,
      "overflow": null,
      "overflow_x": null,
      "overflow_y": null,
      "padding": null,
      "right": null,
      "top": null,
      "visibility": null,
      "width": null
     }
    },
    "ec7c2cf30a5a4535af4325aa8270a184": {
     "model_module": "@jupyter-widgets/controls",
     "model_module_version": "1.5.0",
     "model_name": "DescriptionStyleModel",
     "state": {
      "_model_module": "@jupyter-widgets/controls",
      "_model_module_version": "1.5.0",
      "_model_name": "DescriptionStyleModel",
      "_view_count": null,
      "_view_module": "@jupyter-widgets/base",
      "_view_module_version": "1.2.0",
      "_view_name": "StyleView",
      "description_width": ""
     }
    },
    "ef9d8f5543924688b0699c2012ff170f": {
     "model_module": "@jupyter-widgets/controls",
     "model_module_version": "1.5.0",
     "model_name": "HTMLModel",
     "state": {
      "_dom_classes": [],
      "_model_module": "@jupyter-widgets/controls",
      "_model_module_version": "1.5.0",
      "_model_name": "HTMLModel",
      "_view_count": null,
      "_view_module": "@jupyter-widgets/controls",
      "_view_module_version": "1.5.0",
      "_view_name": "HTMLView",
      "description": "",
      "description_tooltip": null,
      "layout": "IPY_MODEL_8cdb1dfc15eb4f15a5b891c60270044d",
      "placeholder": "​",
      "style": "IPY_MODEL_6dc8e924c0754cd0a70bfd5abff53630",
      "value": " 346M/346M [00:01&lt;00:00, 166MB/s]"
     }
    }
   }
  }
 },
 "nbformat": 4,
 "nbformat_minor": 1
}
